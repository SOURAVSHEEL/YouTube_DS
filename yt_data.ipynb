{
 "cells": [
  {
   "cell_type": "code",
   "execution_count": 1,
   "metadata": {},
   "outputs": [],
   "source": [
    "import numpy as np\n",
    "import pandas as pd\n",
    "import matplotlib.pyplot as plt\n",
    "import seaborn as sns\n",
    "import os\n",
    "from googleapiclient.discovery import build\n",
    "from dotenv import load_dotenv\n",
    "from channel_ID import CHANNEL_ID\n",
    "\n",
    "import warnings\n",
    "warnings.filterwarnings('ignore')"
   ]
  },
  {
   "cell_type": "code",
   "execution_count": 2,
   "metadata": {},
   "outputs": [
    {
     "data": {
      "text/plain": [
       "True"
      ]
     },
     "execution_count": 2,
     "metadata": {},
     "output_type": "execute_result"
    }
   ],
   "source": [
    "## load enviroment variables from the .env files\n",
    "load_dotenv()"
   ]
  },
  {
   "cell_type": "code",
   "execution_count": 3,
   "metadata": {},
   "outputs": [],
   "source": [
    "## get the api key from the .env file\n",
    "api_key = os.getenv(\"api_key\")"
   ]
  },
  {
   "cell_type": "code",
   "execution_count": 4,
   "metadata": {},
   "outputs": [],
   "source": [
    "## create a youtube api client\n",
    "youtube = build('youtube', 'v3', developerKey=api_key)"
   ]
  },
  {
   "cell_type": "code",
   "execution_count": 5,
   "metadata": {},
   "outputs": [],
   "source": [
    "## function to fetch the channel data for a given channel id and youtube api key\n",
    "\n",
    "def channel_data(api_key, channel_id):\n",
    "    all_data = []\n",
    "\n",
    "    request = youtube.channels().list(\n",
    "        part = 'snippet, contentDetails, statistics',\n",
    "        id = ','.join(channel_id)\n",
    "    )\n",
    "    response = request.execute()\n",
    "    for i in range(len(response['items'])):\n",
    "        data = dict(channel_title = response['items'][i]['snippet']['title'],\n",
    "                    created_date = response['items'][i]['snippet']['publishedAt'],\n",
    "                    subscribers = response['items'][i]['statistics']['subscriberCount'],\n",
    "                    total_videos = response['items'][i]['statistics']['videoCount'],\n",
    "                    total_views = response['items'][i]['statistics']['viewCount'],\n",
    "                    playlist_id = response['items'][i]['contentDetails']['relatedPlaylists']['uploads'])\n",
    "        \n",
    "        all_data.append(data)\n",
    "\n",
    "    return all_data"
   ]
  },
  {
   "cell_type": "code",
   "execution_count": 6,
   "metadata": {},
   "outputs": [
    {
     "data": {
      "text/plain": [
       "[{'channel_title': 'Data Professor',\n",
       "  'created_date': '2019-08-17T15:59:56Z',\n",
       "  'subscribers': '211000',\n",
       "  'total_videos': '357',\n",
       "  'total_views': '7666911',\n",
       "  'playlist_id': 'UUV8e2g4IWQqK71bbzGDEI4Q'},\n",
       " {'channel_title': 'sentdex',\n",
       "  'created_date': '2012-12-16T20:49:11Z',\n",
       "  'subscribers': '1420000',\n",
       "  'total_videos': '1263',\n",
       "  'total_views': '118309097',\n",
       "  'playlist_id': 'UUfzlCWGWYyIQ0aLC5w48gBQ'},\n",
       " {'channel_title': 'CS Dojo',\n",
       "  'created_date': '2016-02-26T01:49:30Z',\n",
       "  'subscribers': '1950000',\n",
       "  'total_videos': '112',\n",
       "  'total_views': '83879881',\n",
       "  'playlist_id': 'UUxX9wt5FWQUAAz4UrysqK9A'},\n",
       " {'channel_title': 'Corey Schafer',\n",
       "  'created_date': '2006-05-31T22:49:22Z',\n",
       "  'subscribers': '1460000',\n",
       "  'total_videos': '246',\n",
       "  'total_views': '103510231',\n",
       "  'playlist_id': 'UUCezIgC97PvUuR4_gbFUs5g'},\n",
       " {'channel_title': 'Two Minute Papers',\n",
       "  'created_date': '2006-08-18T00:05:41Z',\n",
       "  'subscribers': '1660000',\n",
       "  'total_videos': '990',\n",
       "  'total_views': '153724481',\n",
       "  'playlist_id': 'UUbfYPyITQ-7l4upoX8nvctg'},\n",
       " {'channel_title': 'Krish Naik',\n",
       "  'created_date': '2012-02-11T04:05:06Z',\n",
       "  'subscribers': '1240000',\n",
       "  'total_videos': '2035',\n",
       "  'total_views': '120771918',\n",
       "  'playlist_id': 'UUNU_lfiiWBdtULKOw6X0Dig'},\n",
       " {'channel_title': 'Simplilearn',\n",
       "  'created_date': '2009-10-29T07:21:23Z',\n",
       "  'subscribers': '5360000',\n",
       "  'total_videos': '9528',\n",
       "  'total_views': '466405092',\n",
       "  'playlist_id': 'UUsvqVGtbbyHaMoevxPAq9Fg'},\n",
       " {'channel_title': 'edureka!',\n",
       "  'created_date': '2012-06-29T06:12:26Z',\n",
       "  'subscribers': '4390000',\n",
       "  'total_videos': '11728',\n",
       "  'total_views': '454234628',\n",
       "  'playlist_id': 'UUkw4JCwteGrDHIsyIIKo4tQ'},\n",
       " {'channel_title': 'StatQuest with Josh Starmer',\n",
       "  'created_date': '2011-05-24T01:52:48Z',\n",
       "  'subscribers': '1460000',\n",
       "  'total_videos': '291',\n",
       "  'total_views': '81677738',\n",
       "  'playlist_id': 'UUtYLUTtgS3k1Fg4y5tAhLbw'},\n",
       " {'channel_title': 'Ken Jee',\n",
       "  'created_date': '2014-02-28T14:58:24Z',\n",
       "  'subscribers': '273000',\n",
       "  'total_videos': '288',\n",
       "  'total_views': '9484628',\n",
       "  'playlist_id': 'UUiT9RITQ9PW6BhXK0y2jaeg'},\n",
       " {'channel_title': '3Blue1Brown',\n",
       "  'created_date': '2015-03-03T23:11:55Z',\n",
       "  'subscribers': '7490000',\n",
       "  'total_videos': '215',\n",
       "  'total_views': '667796758',\n",
       "  'playlist_id': 'UUYO_jab_esuFRV4b17AJtAw'},\n",
       " {'channel_title': 'Joma Tech',\n",
       "  'created_date': '2016-08-31T22:22:07Z',\n",
       "  'subscribers': '2330000',\n",
       "  'total_videos': '88',\n",
       "  'total_views': '190871030',\n",
       "  'playlist_id': 'UUV0qA-eDDICsRR9rPcnG7tw'},\n",
       " {'channel_title': 'Siraj Raval',\n",
       "  'created_date': '2016-01-02T00:54:12Z',\n",
       "  'subscribers': '775000',\n",
       "  'total_videos': '484',\n",
       "  'total_views': '51862297',\n",
       "  'playlist_id': 'UUWN3xxRkmTPmbKwht9FuE5A'},\n",
       " {'channel_title': 'CodeWithHarry',\n",
       "  'created_date': '2018-04-28T14:50:54Z',\n",
       "  'subscribers': '8410000',\n",
       "  'total_videos': '2465',\n",
       "  'total_views': '989950581',\n",
       "  'playlist_id': 'UUeVMnSShP_Iviwkknt83cww'},\n",
       " {'channel_title': 'Innit Podcast',\n",
       "  'created_date': '2022-09-14T07:54:45.021008Z',\n",
       "  'subscribers': '16600',\n",
       "  'total_videos': '263',\n",
       "  'total_views': '1354932',\n",
       "  'playlist_id': 'UUFBoqaPTCtGJi8kr7pV33Tg'}]"
      ]
     },
     "execution_count": 6,
     "metadata": {},
     "output_type": "execute_result"
    }
   ],
   "source": [
    "## Calling the function to get the channel data and store it in a variable\n",
    "\n",
    "channel_stat = channel_data(api_key,CHANNEL_ID)\n",
    "\n",
    "channel_stat\n"
   ]
  },
  {
   "cell_type": "code",
   "execution_count": 7,
   "metadata": {},
   "outputs": [],
   "source": [
    "## Coverting the channel data to a pandas dataframe\n",
    "\n",
    "channel_stat_df = pd.DataFrame(channel_stat)"
   ]
  },
  {
   "cell_type": "code",
   "execution_count": 8,
   "metadata": {},
   "outputs": [
    {
     "data": {
      "application/vnd.microsoft.datawrangler.viewer.v0+json": {
       "columns": [
        {
         "name": "index",
         "rawType": "int64",
         "type": "integer"
        },
        {
         "name": "channel_title",
         "rawType": "object",
         "type": "string"
        },
        {
         "name": "created_date",
         "rawType": "object",
         "type": "string"
        },
        {
         "name": "subscribers",
         "rawType": "object",
         "type": "string"
        },
        {
         "name": "total_videos",
         "rawType": "object",
         "type": "string"
        },
        {
         "name": "total_views",
         "rawType": "object",
         "type": "string"
        },
        {
         "name": "playlist_id",
         "rawType": "object",
         "type": "string"
        }
       ],
       "ref": "4b9d8c10-fb84-4c90-9de8-21c18ce41624",
       "rows": [
        [
         "0",
         "Data Professor",
         "2019-08-17T15:59:56Z",
         "211000",
         "357",
         "7666911",
         "UUV8e2g4IWQqK71bbzGDEI4Q"
        ],
        [
         "1",
         "sentdex",
         "2012-12-16T20:49:11Z",
         "1420000",
         "1263",
         "118309097",
         "UUfzlCWGWYyIQ0aLC5w48gBQ"
        ],
        [
         "2",
         "CS Dojo",
         "2016-02-26T01:49:30Z",
         "1950000",
         "112",
         "83879881",
         "UUxX9wt5FWQUAAz4UrysqK9A"
        ],
        [
         "3",
         "Corey Schafer",
         "2006-05-31T22:49:22Z",
         "1460000",
         "246",
         "103510231",
         "UUCezIgC97PvUuR4_gbFUs5g"
        ],
        [
         "4",
         "Two Minute Papers",
         "2006-08-18T00:05:41Z",
         "1660000",
         "990",
         "153724481",
         "UUbfYPyITQ-7l4upoX8nvctg"
        ]
       ],
       "shape": {
        "columns": 6,
        "rows": 5
       }
      },
      "text/html": [
       "<div>\n",
       "<style scoped>\n",
       "    .dataframe tbody tr th:only-of-type {\n",
       "        vertical-align: middle;\n",
       "    }\n",
       "\n",
       "    .dataframe tbody tr th {\n",
       "        vertical-align: top;\n",
       "    }\n",
       "\n",
       "    .dataframe thead th {\n",
       "        text-align: right;\n",
       "    }\n",
       "</style>\n",
       "<table border=\"1\" class=\"dataframe\">\n",
       "  <thead>\n",
       "    <tr style=\"text-align: right;\">\n",
       "      <th></th>\n",
       "      <th>channel_title</th>\n",
       "      <th>created_date</th>\n",
       "      <th>subscribers</th>\n",
       "      <th>total_videos</th>\n",
       "      <th>total_views</th>\n",
       "      <th>playlist_id</th>\n",
       "    </tr>\n",
       "  </thead>\n",
       "  <tbody>\n",
       "    <tr>\n",
       "      <th>0</th>\n",
       "      <td>Data Professor</td>\n",
       "      <td>2019-08-17T15:59:56Z</td>\n",
       "      <td>211000</td>\n",
       "      <td>357</td>\n",
       "      <td>7666911</td>\n",
       "      <td>UUV8e2g4IWQqK71bbzGDEI4Q</td>\n",
       "    </tr>\n",
       "    <tr>\n",
       "      <th>1</th>\n",
       "      <td>sentdex</td>\n",
       "      <td>2012-12-16T20:49:11Z</td>\n",
       "      <td>1420000</td>\n",
       "      <td>1263</td>\n",
       "      <td>118309097</td>\n",
       "      <td>UUfzlCWGWYyIQ0aLC5w48gBQ</td>\n",
       "    </tr>\n",
       "    <tr>\n",
       "      <th>2</th>\n",
       "      <td>CS Dojo</td>\n",
       "      <td>2016-02-26T01:49:30Z</td>\n",
       "      <td>1950000</td>\n",
       "      <td>112</td>\n",
       "      <td>83879881</td>\n",
       "      <td>UUxX9wt5FWQUAAz4UrysqK9A</td>\n",
       "    </tr>\n",
       "    <tr>\n",
       "      <th>3</th>\n",
       "      <td>Corey Schafer</td>\n",
       "      <td>2006-05-31T22:49:22Z</td>\n",
       "      <td>1460000</td>\n",
       "      <td>246</td>\n",
       "      <td>103510231</td>\n",
       "      <td>UUCezIgC97PvUuR4_gbFUs5g</td>\n",
       "    </tr>\n",
       "    <tr>\n",
       "      <th>4</th>\n",
       "      <td>Two Minute Papers</td>\n",
       "      <td>2006-08-18T00:05:41Z</td>\n",
       "      <td>1660000</td>\n",
       "      <td>990</td>\n",
       "      <td>153724481</td>\n",
       "      <td>UUbfYPyITQ-7l4upoX8nvctg</td>\n",
       "    </tr>\n",
       "  </tbody>\n",
       "</table>\n",
       "</div>"
      ],
      "text/plain": [
       "       channel_title          created_date subscribers total_videos  \\\n",
       "0     Data Professor  2019-08-17T15:59:56Z      211000          357   \n",
       "1            sentdex  2012-12-16T20:49:11Z     1420000         1263   \n",
       "2            CS Dojo  2016-02-26T01:49:30Z     1950000          112   \n",
       "3      Corey Schafer  2006-05-31T22:49:22Z     1460000          246   \n",
       "4  Two Minute Papers  2006-08-18T00:05:41Z     1660000          990   \n",
       "\n",
       "  total_views               playlist_id  \n",
       "0     7666911  UUV8e2g4IWQqK71bbzGDEI4Q  \n",
       "1   118309097  UUfzlCWGWYyIQ0aLC5w48gBQ  \n",
       "2    83879881  UUxX9wt5FWQUAAz4UrysqK9A  \n",
       "3   103510231  UUCezIgC97PvUuR4_gbFUs5g  \n",
       "4   153724481  UUbfYPyITQ-7l4upoX8nvctg  "
      ]
     },
     "execution_count": 8,
     "metadata": {},
     "output_type": "execute_result"
    }
   ],
   "source": [
    "## checking the first five rows of the datafrmae\n",
    "channel_stat_df.head()"
   ]
  },
  {
   "cell_type": "code",
   "execution_count": 9,
   "metadata": {},
   "outputs": [
    {
     "name": "stdout",
     "output_type": "stream",
     "text": [
      "<class 'pandas.core.frame.DataFrame'>\n",
      "RangeIndex: 15 entries, 0 to 14\n",
      "Data columns (total 6 columns):\n",
      " #   Column         Non-Null Count  Dtype \n",
      "---  ------         --------------  ----- \n",
      " 0   channel_title  15 non-null     object\n",
      " 1   created_date   15 non-null     object\n",
      " 2   subscribers    15 non-null     object\n",
      " 3   total_videos   15 non-null     object\n",
      " 4   total_views    15 non-null     object\n",
      " 5   playlist_id    15 non-null     object\n",
      "dtypes: object(6)\n",
      "memory usage: 848.0+ bytes\n"
     ]
    }
   ],
   "source": [
    "## checking the infomations of the columns\n",
    "\n",
    "channel_stat_df.info()"
   ]
  },
  {
   "cell_type": "code",
   "execution_count": 10,
   "metadata": {},
   "outputs": [
    {
     "data": {
      "application/vnd.microsoft.datawrangler.viewer.v0+json": {
       "columns": [
        {
         "name": "index",
         "rawType": "int64",
         "type": "integer"
        },
        {
         "name": "created_date",
         "rawType": "object",
         "type": "string"
        }
       ],
       "ref": "8230e202-0770-4368-b76d-e2ad5eb953f8",
       "rows": [
        [
         "0",
         "2019-08-17T15:59:56Z"
        ],
        [
         "1",
         "2012-12-16T20:49:11Z"
        ],
        [
         "2",
         "2016-02-26T01:49:30Z"
        ],
        [
         "3",
         "2006-05-31T22:49:22Z"
        ],
        [
         "4",
         "2006-08-18T00:05:41Z"
        ]
       ],
       "shape": {
        "columns": 1,
        "rows": 5
       }
      },
      "text/plain": [
       "0    2019-08-17T15:59:56Z\n",
       "1    2012-12-16T20:49:11Z\n",
       "2    2016-02-26T01:49:30Z\n",
       "3    2006-05-31T22:49:22Z\n",
       "4    2006-08-18T00:05:41Z\n",
       "Name: created_date, dtype: object"
      ]
     },
     "execution_count": 10,
     "metadata": {},
     "output_type": "execute_result"
    }
   ],
   "source": [
    "channel_stat_df['created_date'].head()"
   ]
  },
  {
   "cell_type": "code",
   "execution_count": 11,
   "metadata": {},
   "outputs": [],
   "source": [
    "## changing the date column to datetime format\n",
    "\n",
    "## Dates are in ISO8601 format (like \"2022-09-14T07:54:45.021008Z\")\n",
    "## \"2022-09-14T07:54:45.021008Z\" includes fractional seconds (.021008) and a \"Z\" to indicate UTC.\n",
    "\n",
    "channel_stat_df['created_date'] = pd.to_datetime(channel_stat_df['created_date'], format='ISO8601').dt.date"
   ]
  },
  {
   "cell_type": "code",
   "execution_count": 12,
   "metadata": {},
   "outputs": [
    {
     "data": {
      "application/vnd.microsoft.datawrangler.viewer.v0+json": {
       "columns": [
        {
         "name": "index",
         "rawType": "int64",
         "type": "integer"
        },
        {
         "name": "channel_title",
         "rawType": "object",
         "type": "string"
        },
        {
         "name": "created_date",
         "rawType": "object",
         "type": "unknown"
        },
        {
         "name": "subscribers",
         "rawType": "object",
         "type": "string"
        },
        {
         "name": "total_videos",
         "rawType": "object",
         "type": "string"
        },
        {
         "name": "total_views",
         "rawType": "object",
         "type": "string"
        },
        {
         "name": "playlist_id",
         "rawType": "object",
         "type": "string"
        }
       ],
       "ref": "dc631ba0-f3a6-4126-9fb1-6f0c4e067650",
       "rows": [
        [
         "0",
         "Data Professor",
         "2019-08-17",
         "211000",
         "357",
         "7666911",
         "UUV8e2g4IWQqK71bbzGDEI4Q"
        ],
        [
         "1",
         "sentdex",
         "2012-12-16",
         "1420000",
         "1263",
         "118309097",
         "UUfzlCWGWYyIQ0aLC5w48gBQ"
        ],
        [
         "2",
         "CS Dojo",
         "2016-02-26",
         "1950000",
         "112",
         "83879881",
         "UUxX9wt5FWQUAAz4UrysqK9A"
        ],
        [
         "3",
         "Corey Schafer",
         "2006-05-31",
         "1460000",
         "246",
         "103510231",
         "UUCezIgC97PvUuR4_gbFUs5g"
        ],
        [
         "4",
         "Two Minute Papers",
         "2006-08-18",
         "1660000",
         "990",
         "153724481",
         "UUbfYPyITQ-7l4upoX8nvctg"
        ]
       ],
       "shape": {
        "columns": 6,
        "rows": 5
       }
      },
      "text/html": [
       "<div>\n",
       "<style scoped>\n",
       "    .dataframe tbody tr th:only-of-type {\n",
       "        vertical-align: middle;\n",
       "    }\n",
       "\n",
       "    .dataframe tbody tr th {\n",
       "        vertical-align: top;\n",
       "    }\n",
       "\n",
       "    .dataframe thead th {\n",
       "        text-align: right;\n",
       "    }\n",
       "</style>\n",
       "<table border=\"1\" class=\"dataframe\">\n",
       "  <thead>\n",
       "    <tr style=\"text-align: right;\">\n",
       "      <th></th>\n",
       "      <th>channel_title</th>\n",
       "      <th>created_date</th>\n",
       "      <th>subscribers</th>\n",
       "      <th>total_videos</th>\n",
       "      <th>total_views</th>\n",
       "      <th>playlist_id</th>\n",
       "    </tr>\n",
       "  </thead>\n",
       "  <tbody>\n",
       "    <tr>\n",
       "      <th>0</th>\n",
       "      <td>Data Professor</td>\n",
       "      <td>2019-08-17</td>\n",
       "      <td>211000</td>\n",
       "      <td>357</td>\n",
       "      <td>7666911</td>\n",
       "      <td>UUV8e2g4IWQqK71bbzGDEI4Q</td>\n",
       "    </tr>\n",
       "    <tr>\n",
       "      <th>1</th>\n",
       "      <td>sentdex</td>\n",
       "      <td>2012-12-16</td>\n",
       "      <td>1420000</td>\n",
       "      <td>1263</td>\n",
       "      <td>118309097</td>\n",
       "      <td>UUfzlCWGWYyIQ0aLC5w48gBQ</td>\n",
       "    </tr>\n",
       "    <tr>\n",
       "      <th>2</th>\n",
       "      <td>CS Dojo</td>\n",
       "      <td>2016-02-26</td>\n",
       "      <td>1950000</td>\n",
       "      <td>112</td>\n",
       "      <td>83879881</td>\n",
       "      <td>UUxX9wt5FWQUAAz4UrysqK9A</td>\n",
       "    </tr>\n",
       "    <tr>\n",
       "      <th>3</th>\n",
       "      <td>Corey Schafer</td>\n",
       "      <td>2006-05-31</td>\n",
       "      <td>1460000</td>\n",
       "      <td>246</td>\n",
       "      <td>103510231</td>\n",
       "      <td>UUCezIgC97PvUuR4_gbFUs5g</td>\n",
       "    </tr>\n",
       "    <tr>\n",
       "      <th>4</th>\n",
       "      <td>Two Minute Papers</td>\n",
       "      <td>2006-08-18</td>\n",
       "      <td>1660000</td>\n",
       "      <td>990</td>\n",
       "      <td>153724481</td>\n",
       "      <td>UUbfYPyITQ-7l4upoX8nvctg</td>\n",
       "    </tr>\n",
       "  </tbody>\n",
       "</table>\n",
       "</div>"
      ],
      "text/plain": [
       "       channel_title created_date subscribers total_videos total_views  \\\n",
       "0     Data Professor   2019-08-17      211000          357     7666911   \n",
       "1            sentdex   2012-12-16     1420000         1263   118309097   \n",
       "2            CS Dojo   2016-02-26     1950000          112    83879881   \n",
       "3      Corey Schafer   2006-05-31     1460000          246   103510231   \n",
       "4  Two Minute Papers   2006-08-18     1660000          990   153724481   \n",
       "\n",
       "                playlist_id  \n",
       "0  UUV8e2g4IWQqK71bbzGDEI4Q  \n",
       "1  UUfzlCWGWYyIQ0aLC5w48gBQ  \n",
       "2  UUxX9wt5FWQUAAz4UrysqK9A  \n",
       "3  UUCezIgC97PvUuR4_gbFUs5g  \n",
       "4  UUbfYPyITQ-7l4upoX8nvctg  "
      ]
     },
     "execution_count": 12,
     "metadata": {},
     "output_type": "execute_result"
    }
   ],
   "source": [
    "channel_stat_df.head()"
   ]
  },
  {
   "cell_type": "code",
   "execution_count": 13,
   "metadata": {},
   "outputs": [],
   "source": [
    "## Converting the subscriber, total_videos and total_views columns to integer data type\n",
    "\n",
    "channel_stat_df['subscribers'] = channel_stat_df['subscribers'].astype(int)\n",
    "channel_stat_df['total_videos'] = channel_stat_df['total_videos'].astype(int)\n",
    "channel_stat_df['total_views'] = channel_stat_df['total_views'].astype(int)"
   ]
  },
  {
   "cell_type": "code",
   "execution_count": 14,
   "metadata": {},
   "outputs": [],
   "source": [
    "## Creating a new column year to store the year of the channel creation \n",
    "\n",
    "channel_stat_df['year'] = pd.to_datetime(channel_stat_df['created_date']).dt.year"
   ]
  },
  {
   "cell_type": "code",
   "execution_count": 15,
   "metadata": {},
   "outputs": [
    {
     "data": {
      "application/vnd.microsoft.datawrangler.viewer.v0+json": {
       "columns": [
        {
         "name": "index",
         "rawType": "object",
         "type": "string"
        },
        {
         "name": "subscribers",
         "rawType": "float64",
         "type": "float"
        },
        {
         "name": "total_videos",
         "rawType": "float64",
         "type": "float"
        },
        {
         "name": "total_views",
         "rawType": "float64",
         "type": "float"
        },
        {
         "name": "year",
         "rawType": "float64",
         "type": "float"
        }
       ],
       "ref": "c9cf473e-b993-40cb-b229-7312afa36833",
       "rows": [
        [
         "subscribers",
         "1.0",
         "0.41464162435268626",
         "0.9809050594275287",
         "-0.014535822244014457"
        ],
        [
         "total_videos",
         "0.41464162435268626",
         "1.0",
         "0.4115049158526991",
         "-0.2667695797281284"
        ],
        [
         "total_views",
         "0.9809050594275287",
         "0.4115049158526991",
         "1.0",
         "0.03888014162988831"
        ],
        [
         "year",
         "-0.014535822244014457",
         "-0.2667695797281284",
         "0.03888014162988831",
         "1.0"
        ]
       ],
       "shape": {
        "columns": 4,
        "rows": 4
       }
      },
      "text/html": [
       "<div>\n",
       "<style scoped>\n",
       "    .dataframe tbody tr th:only-of-type {\n",
       "        vertical-align: middle;\n",
       "    }\n",
       "\n",
       "    .dataframe tbody tr th {\n",
       "        vertical-align: top;\n",
       "    }\n",
       "\n",
       "    .dataframe thead th {\n",
       "        text-align: right;\n",
       "    }\n",
       "</style>\n",
       "<table border=\"1\" class=\"dataframe\">\n",
       "  <thead>\n",
       "    <tr style=\"text-align: right;\">\n",
       "      <th></th>\n",
       "      <th>subscribers</th>\n",
       "      <th>total_videos</th>\n",
       "      <th>total_views</th>\n",
       "      <th>year</th>\n",
       "    </tr>\n",
       "  </thead>\n",
       "  <tbody>\n",
       "    <tr>\n",
       "      <th>subscribers</th>\n",
       "      <td>1.000000</td>\n",
       "      <td>0.414642</td>\n",
       "      <td>0.980905</td>\n",
       "      <td>-0.014536</td>\n",
       "    </tr>\n",
       "    <tr>\n",
       "      <th>total_videos</th>\n",
       "      <td>0.414642</td>\n",
       "      <td>1.000000</td>\n",
       "      <td>0.411505</td>\n",
       "      <td>-0.266770</td>\n",
       "    </tr>\n",
       "    <tr>\n",
       "      <th>total_views</th>\n",
       "      <td>0.980905</td>\n",
       "      <td>0.411505</td>\n",
       "      <td>1.000000</td>\n",
       "      <td>0.038880</td>\n",
       "    </tr>\n",
       "    <tr>\n",
       "      <th>year</th>\n",
       "      <td>-0.014536</td>\n",
       "      <td>-0.266770</td>\n",
       "      <td>0.038880</td>\n",
       "      <td>1.000000</td>\n",
       "    </tr>\n",
       "  </tbody>\n",
       "</table>\n",
       "</div>"
      ],
      "text/plain": [
       "              subscribers  total_videos  total_views      year\n",
       "subscribers      1.000000      0.414642     0.980905 -0.014536\n",
       "total_videos     0.414642      1.000000     0.411505 -0.266770\n",
       "total_views      0.980905      0.411505     1.000000  0.038880\n",
       "year            -0.014536     -0.266770     0.038880  1.000000"
      ]
     },
     "execution_count": 15,
     "metadata": {},
     "output_type": "execute_result"
    }
   ],
   "source": [
    "numerical_data = channel_stat_df[['subscribers','total_videos','total_views','year']]\n",
    "\n",
    "correlation = numerical_data.corr()\n",
    "correlation"
   ]
  },
  {
   "cell_type": "code",
   "execution_count": 16,
   "metadata": {},
   "outputs": [
    {
     "data": {
      "image/png": "[encoded data removed]",
      "text/plain": [
       "<Figure size 640x480 with 2 Axes>"
      ]
     },
     "metadata": {},
     "output_type": "display_data"
    }
   ],
   "source": [
    "sns.heatmap(correlation, annot=True)\n",
    "plt.show()"
   ]
  },
  {
   "cell_type": "code",
   "execution_count": 17,
   "metadata": {},
   "outputs": [
    {
     "data": {
      "image/png": "[encoded data removed]",
      "text/plain": [
       "<Figure size 1200x600 with 1 Axes>"
      ]
     },
     "metadata": {},
     "output_type": "display_data"
    }
   ],
   "source": [
    "## number of subecribers per channel\n",
    "\n",
    "plt.figure(figsize=(12,6))\n",
    "ax = sns.barplot(x='channel_title', y='subscribers', data=channel_stat_df)\n",
    "for p in ax.patches:\n",
    "    label = f'{p.get_height() / 10000:.1f}K'\n",
    "    ax.annotate(label, \n",
    "                (p.get_x()+ p.get_width()/2., p.get_height()), ha='center', \n",
    "                va='center', xytext=(0,5), textcoords='offset points')\n",
    "\n",
    "plt.xticks(rotation=90)\n",
    "plt.title('Number of Subscribers per Channel', fontsize=15, fontweight='bold')\n",
    "plt.xlabel('Channel Title', fontsize=12, fontweight='bold')\n",
    "plt.ylabel('Number of Subscribers', fontsize=12, fontweight='bold')\n",
    "plt.show()"
   ]
  },
  {
   "cell_type": "code",
   "execution_count": 18,
   "metadata": {},
   "outputs": [
    {
     "data": {
      "image/png": "[encoded data removed]",
      "text/plain": [
       "<Figure size 1200x600 with 1 Axes>"
      ]
     },
     "metadata": {},
     "output_type": "display_data"
    }
   ],
   "source": [
    " ## Number of views per channel\n",
    "\n",
    "plt.figure(figsize=(12,6))\n",
    "ax = sns.barplot(x='channel_title', y='total_views', data=channel_stat_df)\n",
    "for p in ax.patches:\n",
    "    label = f'{p.get_height() / 1000000:.1f}M'\n",
    "    ax.annotate(label, \n",
    "                (p.get_x()+ p.get_width()/2., p.get_height()), ha='center', \n",
    "                va='center', xytext=(0,5), textcoords='offset points')\n",
    "\n",
    "plt.xticks(rotation=90)\n",
    "plt.title('Number of Views per Channel', fontsize=15, fontweight='bold')\n",
    "plt.xlabel('Channel Title', fontsize=12, fontweight='bold')\n",
    "plt.ylabel('Number of Views', fontsize=12, fontweight='bold')\n",
    "plt.show()"
   ]
  },
  {
   "cell_type": "code",
   "execution_count": 19,
   "metadata": {},
   "outputs": [
    {
     "data": {
      "image/png": "[encoded data removed]",
      "text/plain": [
       "<Figure size 1200x600 with 1 Axes>"
      ]
     },
     "metadata": {},
     "output_type": "display_data"
    }
   ],
   "source": [
    "## number of videos per channel\n",
    "\n",
    "plt.figure(figsize=(12,6))\n",
    "ax = sns.barplot(x='channel_title', y='total_videos', data=channel_stat_df)\n",
    "for p in ax.patches:\n",
    "    label = f'{p.get_height()}'\n",
    "    ax.annotate(label, \n",
    "                (p.get_x()+ p.get_width()/2., p.get_height()), ha='center', \n",
    "                va='center', xytext=(0,5), textcoords='offset points')\n",
    "\n",
    "plt.xticks(rotation=90)\n",
    "plt.title('Number of Videos per Channel', fontsize=15, fontweight='bold')\n",
    "plt.xlabel('Channel Title', fontsize=12, fontweight='bold')\n",
    "plt.ylabel('Number of Videos', fontsize=12, fontweight='bold')  \n",
    "plt.show()  \n"
   ]
  },
  {
   "cell_type": "code",
   "execution_count": 20,
   "metadata": {},
   "outputs": [
    {
     "data": {
      "application/vnd.microsoft.datawrangler.viewer.v0+json": {
       "columns": [
        {
         "name": "index",
         "rawType": "int64",
         "type": "integer"
        },
        {
         "name": "channel_title",
         "rawType": "object",
         "type": "string"
        },
        {
         "name": "created_date",
         "rawType": "object",
         "type": "unknown"
        },
        {
         "name": "subscribers",
         "rawType": "int64",
         "type": "integer"
        },
        {
         "name": "total_videos",
         "rawType": "int64",
         "type": "integer"
        },
        {
         "name": "total_views",
         "rawType": "int64",
         "type": "integer"
        },
        {
         "name": "playlist_id",
         "rawType": "object",
         "type": "string"
        },
        {
         "name": "year",
         "rawType": "int32",
         "type": "integer"
        }
       ],
       "ref": "7c79fe4d-4ac5-4718-83bd-98072ed2fab1",
       "rows": [
        [
         "0",
         "Data Professor",
         "2019-08-17",
         "211000",
         "357",
         "7666911",
         "UUV8e2g4IWQqK71bbzGDEI4Q",
         "2019"
        ],
        [
         "1",
         "sentdex",
         "2012-12-16",
         "1420000",
         "1263",
         "118309097",
         "UUfzlCWGWYyIQ0aLC5w48gBQ",
         "2012"
        ],
        [
         "2",
         "CS Dojo",
         "2016-02-26",
         "1950000",
         "112",
         "83879881",
         "UUxX9wt5FWQUAAz4UrysqK9A",
         "2016"
        ],
        [
         "3",
         "Corey Schafer",
         "2006-05-31",
         "1460000",
         "246",
         "103510231",
         "UUCezIgC97PvUuR4_gbFUs5g",
         "2006"
        ],
        [
         "4",
         "Two Minute Papers",
         "2006-08-18",
         "1660000",
         "990",
         "153724481",
         "UUbfYPyITQ-7l4upoX8nvctg",
         "2006"
        ]
       ],
       "shape": {
        "columns": 7,
        "rows": 5
       }
      },
      "text/html": [
       "<div>\n",
       "<style scoped>\n",
       "    .dataframe tbody tr th:only-of-type {\n",
       "        vertical-align: middle;\n",
       "    }\n",
       "\n",
       "    .dataframe tbody tr th {\n",
       "        vertical-align: top;\n",
       "    }\n",
       "\n",
       "    .dataframe thead th {\n",
       "        text-align: right;\n",
       "    }\n",
       "</style>\n",
       "<table border=\"1\" class=\"dataframe\">\n",
       "  <thead>\n",
       "    <tr style=\"text-align: right;\">\n",
       "      <th></th>\n",
       "      <th>channel_title</th>\n",
       "      <th>created_date</th>\n",
       "      <th>subscribers</th>\n",
       "      <th>total_videos</th>\n",
       "      <th>total_views</th>\n",
       "      <th>playlist_id</th>\n",
       "      <th>year</th>\n",
       "    </tr>\n",
       "  </thead>\n",
       "  <tbody>\n",
       "    <tr>\n",
       "      <th>0</th>\n",
       "      <td>Data Professor</td>\n",
       "      <td>2019-08-17</td>\n",
       "      <td>211000</td>\n",
       "      <td>357</td>\n",
       "      <td>7666911</td>\n",
       "      <td>UUV8e2g4IWQqK71bbzGDEI4Q</td>\n",
       "      <td>2019</td>\n",
       "    </tr>\n",
       "    <tr>\n",
       "      <th>1</th>\n",
       "      <td>sentdex</td>\n",
       "      <td>2012-12-16</td>\n",
       "      <td>1420000</td>\n",
       "      <td>1263</td>\n",
       "      <td>118309097</td>\n",
       "      <td>UUfzlCWGWYyIQ0aLC5w48gBQ</td>\n",
       "      <td>2012</td>\n",
       "    </tr>\n",
       "    <tr>\n",
       "      <th>2</th>\n",
       "      <td>CS Dojo</td>\n",
       "      <td>2016-02-26</td>\n",
       "      <td>1950000</td>\n",
       "      <td>112</td>\n",
       "      <td>83879881</td>\n",
       "      <td>UUxX9wt5FWQUAAz4UrysqK9A</td>\n",
       "      <td>2016</td>\n",
       "    </tr>\n",
       "    <tr>\n",
       "      <th>3</th>\n",
       "      <td>Corey Schafer</td>\n",
       "      <td>2006-05-31</td>\n",
       "      <td>1460000</td>\n",
       "      <td>246</td>\n",
       "      <td>103510231</td>\n",
       "      <td>UUCezIgC97PvUuR4_gbFUs5g</td>\n",
       "      <td>2006</td>\n",
       "    </tr>\n",
       "    <tr>\n",
       "      <th>4</th>\n",
       "      <td>Two Minute Papers</td>\n",
       "      <td>2006-08-18</td>\n",
       "      <td>1660000</td>\n",
       "      <td>990</td>\n",
       "      <td>153724481</td>\n",
       "      <td>UUbfYPyITQ-7l4upoX8nvctg</td>\n",
       "      <td>2006</td>\n",
       "    </tr>\n",
       "  </tbody>\n",
       "</table>\n",
       "</div>"
      ],
      "text/plain": [
       "       channel_title created_date  subscribers  total_videos  total_views  \\\n",
       "0     Data Professor   2019-08-17       211000           357      7666911   \n",
       "1            sentdex   2012-12-16      1420000          1263    118309097   \n",
       "2            CS Dojo   2016-02-26      1950000           112     83879881   \n",
       "3      Corey Schafer   2006-05-31      1460000           246    103510231   \n",
       "4  Two Minute Papers   2006-08-18      1660000           990    153724481   \n",
       "\n",
       "                playlist_id  year  \n",
       "0  UUV8e2g4IWQqK71bbzGDEI4Q  2019  \n",
       "1  UUfzlCWGWYyIQ0aLC5w48gBQ  2012  \n",
       "2  UUxX9wt5FWQUAAz4UrysqK9A  2016  \n",
       "3  UUCezIgC97PvUuR4_gbFUs5g  2006  \n",
       "4  UUbfYPyITQ-7l4upoX8nvctg  2006  "
      ]
     },
     "execution_count": 20,
     "metadata": {},
     "output_type": "execute_result"
    }
   ],
   "source": [
    "channel_stat_df.head()"
   ]
  },
  {
   "cell_type": "code",
   "execution_count": 21,
   "metadata": {},
   "outputs": [],
   "source": [
    "harry = channel_stat_df['channel_title'] == \"CodeWithHarry\""
   ]
  },
  {
   "cell_type": "code",
   "execution_count": 22,
   "metadata": {},
   "outputs": [
    {
     "data": {
      "text/plain": [
       "'UUeVMnSShP_Iviwkknt83cww'"
      ]
     },
     "execution_count": 22,
     "metadata": {},
     "output_type": "execute_result"
    }
   ],
   "source": [
    "playlist_id = channel_stat_df[harry]['playlist_id'].iloc[0]\n",
    "\n",
    "playlist_id"
   ]
  },
  {
   "cell_type": "code",
   "execution_count": 23,
   "metadata": {},
   "outputs": [],
   "source": [
    "def get_video_id(youtube, playlist_id):\n",
    "    \"\"\"\n",
    "    Extracts all video IDs from a given YouTube playlist.\n",
    "\n",
    "    Args:\n",
    "        youtube: An authorized YouTube API client instance.\n",
    "        playlist_id: The ID of the playlist from which to extract video IDs.\n",
    "\n",
    "    Returns:\n",
    "        A list of video IDs in the playlist.\n",
    "    \"\"\"\n",
    "    video_id = []\n",
    "    next_page_token = None\n",
    "\n",
    "    while True:\n",
    "        # Request the playlist items with optional next_page_token\n",
    "        request = youtube.playlistItems().list(\n",
    "            part='contentDetails',\n",
    "            playlistId=playlist_id,\n",
    "            maxResults=50,\n",
    "            pageToken=next_page_token\n",
    "        )\n",
    "        response = request.execute()\n",
    "\n",
    "        # Append video IDs to the list\n",
    "        video_id.extend(item['contentDetails']['videoId'] for item in response['items'])\n",
    "\n",
    "        # Check for next page token\n",
    "        next_page_token = response.get('nextPageToken')\n",
    "        if not next_page_token:\n",
    "            break\n",
    "\n",
    "    return video_id\n"
   ]
  },
  {
   "cell_type": "code",
   "execution_count": 24,
   "metadata": {},
   "outputs": [],
   "source": [
    "## create a youtube api client\n",
    "youtube = build('youtube', 'v3', developerKey=api_key)"
   ]
  },
  {
   "cell_type": "code",
   "execution_count": 25,
   "metadata": {},
   "outputs": [],
   "source": [
    "video_ids = get_video_id(youtube, playlist_id)"
   ]
  },
  {
   "cell_type": "code",
   "execution_count": 26,
   "metadata": {},
   "outputs": [],
   "source": [
    "def get_video_details(youtube, video_ids):\n",
    "    \"\"\"\n",
    "    Extracts details (title, published date, views, likes, and comments) from a list of video IDs.\n",
    "\n",
    "    Args:\n",
    "        youtube: An authorized YouTube API client instance.\n",
    "        video_ids: A list of video IDs to retrieve details for.\n",
    "\n",
    "    Returns:\n",
    "        A list of dictionaries containing details for each video.\n",
    "    \"\"\"\n",
    "    all_data = []\n",
    "    # YouTube API allows fetching details for up to 50 videos at a time\n",
    "    batch_size = 50\n",
    "\n",
    "    for i in range(0, len(video_ids), batch_size):\n",
    "        # Batch the video IDs for the current API request\n",
    "        batch_ids = video_ids[i:i + batch_size]\n",
    "\n",
    "        request = youtube.videos().list(\n",
    "            part='snippet,statistics',\n",
    "            id=','.join(batch_ids)  # Join video IDs as a comma-separated string\n",
    "        )\n",
    "        response = request.execute()\n",
    "\n",
    "        for item in response.get('items', []):  # Safely handle cases where 'items' might be missing\n",
    "            data = {\n",
    "                'video_id': item['id'],\n",
    "                'title': item['snippet']['title'],\n",
    "                'published_date': item['snippet']['publishedAt'],\n",
    "                'views': item['statistics'].get('viewCount', 0),\n",
    "                'likes': item['statistics'].get('likeCount', 0),\n",
    "                'comments': item['statistics'].get('commentCount', 0)\n",
    "            }\n",
    "            all_data.append(data)\n",
    "\n",
    "    return all_data\n"
   ]
  },
  {
   "cell_type": "code",
   "execution_count": 27,
   "metadata": {},
   "outputs": [],
   "source": [
    "video_details = get_video_details(youtube, video_ids)"
   ]
  },
  {
   "cell_type": "code",
   "execution_count": 28,
   "metadata": {},
   "outputs": [],
   "source": [
    "## Converting the video details to a pandas dataframe\n",
    "\n",
    "video_details_df = pd.DataFrame(video_details)"
   ]
  },
  {
   "cell_type": "code",
   "execution_count": 29,
   "metadata": {},
   "outputs": [
    {
     "data": {
      "application/vnd.microsoft.datawrangler.viewer.v0+json": {
       "columns": [
        {
         "name": "index",
         "rawType": "int64",
         "type": "integer"
        },
        {
         "name": "video_id",
         "rawType": "object",
         "type": "string"
        },
        {
         "name": "title",
         "rawType": "object",
         "type": "string"
        },
        {
         "name": "published_date",
         "rawType": "object",
         "type": "string"
        },
        {
         "name": "views",
         "rawType": "object",
         "type": "string"
        },
        {
         "name": "likes",
         "rawType": "object",
         "type": "string"
        },
        {
         "name": "comments",
         "rawType": "object",
         "type": "string"
        }
       ],
       "ref": "7bfe7bf5-7710-4830-b897-f60bf9da29f1",
       "rows": [
        [
         "0",
         "yE6tIle64tU",
         "SQL Tutorial for Beginners (Complete Course using MySQL)",
         "2025-07-13T15:48:18Z",
         "356979",
         "13542",
         "1488"
        ],
        [
         "1",
         "CF52N-w4anI",
         "Your First Programming Language in the AI Era Should be...",
         "2025-07-05T11:30:20Z",
         "575050",
         "21629",
         "1775"
        ],
        [
         "2",
         "b7ttYWrJzCI",
         "You can do much more with AI 🔥",
         "2025-07-03T13:30:28Z",
         "138671",
         "6718",
         "412"
        ],
        [
         "3",
         "t1h5vHJ0mCQ",
         "AI & Machine Learning Roadmap (No Fluff)",
         "2025-06-22T06:18:43Z",
         "350063",
         "15096",
         "1185"
        ],
        [
         "4",
         "u0aYTqXj_1I",
         "The Shocking History of AI and Machine Learning! - Journey since 1939 🔥",
         "2025-06-14T15:43:44Z",
         "158854",
         "5874",
         "516"
        ]
       ],
       "shape": {
        "columns": 6,
        "rows": 5
       }
      },
      "text/html": [
       "<div>\n",
       "<style scoped>\n",
       "    .dataframe tbody tr th:only-of-type {\n",
       "        vertical-align: middle;\n",
       "    }\n",
       "\n",
       "    .dataframe tbody tr th {\n",
       "        vertical-align: top;\n",
       "    }\n",
       "\n",
       "    .dataframe thead th {\n",
       "        text-align: right;\n",
       "    }\n",
       "</style>\n",
       "<table border=\"1\" class=\"dataframe\">\n",
       "  <thead>\n",
       "    <tr style=\"text-align: right;\">\n",
       "      <th></th>\n",
       "      <th>video_id</th>\n",
       "      <th>title</th>\n",
       "      <th>published_date</th>\n",
       "      <th>views</th>\n",
       "      <th>likes</th>\n",
       "      <th>comments</th>\n",
       "    </tr>\n",
       "  </thead>\n",
       "  <tbody>\n",
       "    <tr>\n",
       "      <th>0</th>\n",
       "      <td>yE6tIle64tU</td>\n",
       "      <td>SQL Tutorial for Beginners (Complete Course us...</td>\n",
       "      <td>2025-07-13T15:48:18Z</td>\n",
       "      <td>356979</td>\n",
       "      <td>13542</td>\n",
       "      <td>1488</td>\n",
       "    </tr>\n",
       "    <tr>\n",
       "      <th>1</th>\n",
       "      <td>CF52N-w4anI</td>\n",
       "      <td>Your First Programming Language in the AI Era ...</td>\n",
       "      <td>2025-07-05T11:30:20Z</td>\n",
       "      <td>575050</td>\n",
       "      <td>21629</td>\n",
       "      <td>1775</td>\n",
       "    </tr>\n",
       "    <tr>\n",
       "      <th>2</th>\n",
       "      <td>b7ttYWrJzCI</td>\n",
       "      <td>You can do much more with AI 🔥</td>\n",
       "      <td>2025-07-03T13:30:28Z</td>\n",
       "      <td>138671</td>\n",
       "      <td>6718</td>\n",
       "      <td>412</td>\n",
       "    </tr>\n",
       "    <tr>\n",
       "      <th>3</th>\n",
       "      <td>t1h5vHJ0mCQ</td>\n",
       "      <td>AI &amp; Machine Learning Roadmap (No Fluff)</td>\n",
       "      <td>2025-06-22T06:18:43Z</td>\n",
       "      <td>350063</td>\n",
       "      <td>15096</td>\n",
       "      <td>1185</td>\n",
       "    </tr>\n",
       "    <tr>\n",
       "      <th>4</th>\n",
       "      <td>u0aYTqXj_1I</td>\n",
       "      <td>The Shocking History of AI and Machine Learnin...</td>\n",
       "      <td>2025-06-14T15:43:44Z</td>\n",
       "      <td>158854</td>\n",
       "      <td>5874</td>\n",
       "      <td>516</td>\n",
       "    </tr>\n",
       "  </tbody>\n",
       "</table>\n",
       "</div>"
      ],
      "text/plain": [
       "      video_id                                              title  \\\n",
       "0  yE6tIle64tU  SQL Tutorial for Beginners (Complete Course us...   \n",
       "1  CF52N-w4anI  Your First Programming Language in the AI Era ...   \n",
       "2  b7ttYWrJzCI                     You can do much more with AI 🔥   \n",
       "3  t1h5vHJ0mCQ           AI & Machine Learning Roadmap (No Fluff)   \n",
       "4  u0aYTqXj_1I  The Shocking History of AI and Machine Learnin...   \n",
       "\n",
       "         published_date   views  likes comments  \n",
       "0  2025-07-13T15:48:18Z  356979  13542     1488  \n",
       "1  2025-07-05T11:30:20Z  575050  21629     1775  \n",
       "2  2025-07-03T13:30:28Z  138671   6718      412  \n",
       "3  2025-06-22T06:18:43Z  350063  15096     1185  \n",
       "4  2025-06-14T15:43:44Z  158854   5874      516  "
      ]
     },
     "execution_count": 29,
     "metadata": {},
     "output_type": "execute_result"
    }
   ],
   "source": [
    "video_details_df.head()"
   ]
  },
  {
   "cell_type": "code",
   "execution_count": 30,
   "metadata": {},
   "outputs": [
    {
     "data": {
      "text/plain": [
       "(2466, 6)"
      ]
     },
     "execution_count": 30,
     "metadata": {},
     "output_type": "execute_result"
    }
   ],
   "source": [
    "video_details_df.shape"
   ]
  },
  {
   "cell_type": "code",
   "execution_count": 31,
   "metadata": {},
   "outputs": [
    {
     "name": "stdout",
     "output_type": "stream",
     "text": [
      "<class 'pandas.core.frame.DataFrame'>\n",
      "RangeIndex: 2466 entries, 0 to 2465\n",
      "Data columns (total 6 columns):\n",
      " #   Column          Non-Null Count  Dtype \n",
      "---  ------          --------------  ----- \n",
      " 0   video_id        2466 non-null   object\n",
      " 1   title           2466 non-null   object\n",
      " 2   published_date  2466 non-null   object\n",
      " 3   views           2466 non-null   object\n",
      " 4   likes           2466 non-null   object\n",
      " 5   comments        2466 non-null   object\n",
      "dtypes: object(6)\n",
      "memory usage: 115.7+ KB\n"
     ]
    }
   ],
   "source": [
    "video_details_df.info()"
   ]
  },
  {
   "cell_type": "code",
   "execution_count": 32,
   "metadata": {},
   "outputs": [],
   "source": [
    "video_details_df = video_details_df.astype({'views': int, 'likes': int, 'comments': int})"
   ]
  },
  {
   "cell_type": "code",
   "execution_count": 33,
   "metadata": {},
   "outputs": [
    {
     "data": {
      "application/vnd.microsoft.datawrangler.viewer.v0+json": {
       "columns": [
        {
         "name": "index",
         "rawType": "object",
         "type": "string"
        },
        {
         "name": "views",
         "rawType": "float64",
         "type": "float"
        },
        {
         "name": "likes",
         "rawType": "float64",
         "type": "float"
        },
        {
         "name": "comments",
         "rawType": "float64",
         "type": "float"
        }
       ],
       "ref": "97cd83a4-204c-420e-85ae-4973e9231f20",
       "rows": [
        [
         "count",
         "2466.0",
         "2466.0",
         "2466.0"
        ],
        [
         "mean",
         "401470.0486618005",
         "13917.347120843471",
         "924.4918896999189"
        ],
        [
         "std",
         "1004054.7513384266",
         "28615.77566182926",
         "3727.490469489766"
        ],
        [
         "min",
         "0.0",
         "0.0",
         "0.0"
        ],
        [
         "25%",
         "70280.5",
         "2328.75",
         "145.25"
        ],
        [
         "50%",
         "165494.0",
         "5825.5",
         "306.5"
        ],
        [
         "75%",
         "379567.25",
         "14099.75",
         "708.75"
        ],
        [
         "max",
         "24709129.0",
         "638413.0",
         "122983.0"
        ]
       ],
       "shape": {
        "columns": 3,
        "rows": 8
       }
      },
      "text/html": [
       "<div>\n",
       "<style scoped>\n",
       "    .dataframe tbody tr th:only-of-type {\n",
       "        vertical-align: middle;\n",
       "    }\n",
       "\n",
       "    .dataframe tbody tr th {\n",
       "        vertical-align: top;\n",
       "    }\n",
       "\n",
       "    .dataframe thead th {\n",
       "        text-align: right;\n",
       "    }\n",
       "</style>\n",
       "<table border=\"1\" class=\"dataframe\">\n",
       "  <thead>\n",
       "    <tr style=\"text-align: right;\">\n",
       "      <th></th>\n",
       "      <th>views</th>\n",
       "      <th>likes</th>\n",
       "      <th>comments</th>\n",
       "    </tr>\n",
       "  </thead>\n",
       "  <tbody>\n",
       "    <tr>\n",
       "      <th>count</th>\n",
       "      <td>2.466000e+03</td>\n",
       "      <td>2466.000000</td>\n",
       "      <td>2466.000000</td>\n",
       "    </tr>\n",
       "    <tr>\n",
       "      <th>mean</th>\n",
       "      <td>4.014700e+05</td>\n",
       "      <td>13917.347121</td>\n",
       "      <td>924.491890</td>\n",
       "    </tr>\n",
       "    <tr>\n",
       "      <th>std</th>\n",
       "      <td>1.004055e+06</td>\n",
       "      <td>28615.775662</td>\n",
       "      <td>3727.490469</td>\n",
       "    </tr>\n",
       "    <tr>\n",
       "      <th>min</th>\n",
       "      <td>0.000000e+00</td>\n",
       "      <td>0.000000</td>\n",
       "      <td>0.000000</td>\n",
       "    </tr>\n",
       "    <tr>\n",
       "      <th>25%</th>\n",
       "      <td>7.028050e+04</td>\n",
       "      <td>2328.750000</td>\n",
       "      <td>145.250000</td>\n",
       "    </tr>\n",
       "    <tr>\n",
       "      <th>50%</th>\n",
       "      <td>1.654940e+05</td>\n",
       "      <td>5825.500000</td>\n",
       "      <td>306.500000</td>\n",
       "    </tr>\n",
       "    <tr>\n",
       "      <th>75%</th>\n",
       "      <td>3.795672e+05</td>\n",
       "      <td>14099.750000</td>\n",
       "      <td>708.750000</td>\n",
       "    </tr>\n",
       "    <tr>\n",
       "      <th>max</th>\n",
       "      <td>2.470913e+07</td>\n",
       "      <td>638413.000000</td>\n",
       "      <td>122983.000000</td>\n",
       "    </tr>\n",
       "  </tbody>\n",
       "</table>\n",
       "</div>"
      ],
      "text/plain": [
       "              views          likes       comments\n",
       "count  2.466000e+03    2466.000000    2466.000000\n",
       "mean   4.014700e+05   13917.347121     924.491890\n",
       "std    1.004055e+06   28615.775662    3727.490469\n",
       "min    0.000000e+00       0.000000       0.000000\n",
       "25%    7.028050e+04    2328.750000     145.250000\n",
       "50%    1.654940e+05    5825.500000     306.500000\n",
       "75%    3.795672e+05   14099.750000     708.750000\n",
       "max    2.470913e+07  638413.000000  122983.000000"
      ]
     },
     "execution_count": 33,
     "metadata": {},
     "output_type": "execute_result"
    }
   ],
   "source": [
    "video_details_df.describe()"
   ]
  },
  {
   "cell_type": "code",
   "execution_count": 34,
   "metadata": {},
   "outputs": [
    {
     "data": {
      "application/vnd.microsoft.datawrangler.viewer.v0+json": {
       "columns": [
        {
         "name": "index",
         "rawType": "object",
         "type": "string"
        },
        {
         "name": "0",
         "rawType": "int64",
         "type": "integer"
        }
       ],
       "ref": "d3c7753c-aead-4ae8-ab34-01bbd1be48ad",
       "rows": [
        [
         "video_id",
         "0"
        ],
        [
         "title",
         "0"
        ],
        [
         "published_date",
         "0"
        ],
        [
         "views",
         "0"
        ],
        [
         "likes",
         "0"
        ],
        [
         "comments",
         "0"
        ]
       ],
       "shape": {
        "columns": 1,
        "rows": 6
       }
      },
      "text/plain": [
       "video_id          0\n",
       "title             0\n",
       "published_date    0\n",
       "views             0\n",
       "likes             0\n",
       "comments          0\n",
       "dtype: int64"
      ]
     },
     "execution_count": 34,
     "metadata": {},
     "output_type": "execute_result"
    }
   ],
   "source": [
    "video_details_df.isnull().sum()"
   ]
  },
  {
   "cell_type": "code",
   "execution_count": 35,
   "metadata": {},
   "outputs": [],
   "source": [
    "# 'published_date' is in datetime format\n",
    "video_details_df['published_date'] = pd.to_datetime(video_details_df['published_date'], errors='coerce')"
   ]
  },
  {
   "cell_type": "code",
   "execution_count": 36,
   "metadata": {},
   "outputs": [
    {
     "data": {
      "application/vnd.microsoft.datawrangler.viewer.v0+json": {
       "columns": [
        {
         "name": "index",
         "rawType": "int64",
         "type": "integer"
        },
        {
         "name": "video_id",
         "rawType": "object",
         "type": "string"
        },
        {
         "name": "title",
         "rawType": "object",
         "type": "string"
        },
        {
         "name": "published_date",
         "rawType": "datetime64[ns, UTC]",
         "type": "unknown"
        },
        {
         "name": "views",
         "rawType": "int64",
         "type": "integer"
        },
        {
         "name": "likes",
         "rawType": "int64",
         "type": "integer"
        },
        {
         "name": "comments",
         "rawType": "int64",
         "type": "integer"
        }
       ],
       "ref": "53e8f51d-910f-49ee-9be9-c6edd31c34a7",
       "rows": [
        [
         "0",
         "yE6tIle64tU",
         "SQL Tutorial for Beginners (Complete Course using MySQL)",
         "2025-07-13 15:48:18+00:00",
         "356979",
         "13542",
         "1488"
        ],
        [
         "1",
         "CF52N-w4anI",
         "Your First Programming Language in the AI Era Should be...",
         "2025-07-05 11:30:20+00:00",
         "575050",
         "21629",
         "1775"
        ],
        [
         "2",
         "b7ttYWrJzCI",
         "You can do much more with AI 🔥",
         "2025-07-03 13:30:28+00:00",
         "138671",
         "6718",
         "412"
        ],
        [
         "3",
         "t1h5vHJ0mCQ",
         "AI & Machine Learning Roadmap (No Fluff)",
         "2025-06-22 06:18:43+00:00",
         "350063",
         "15096",
         "1185"
        ],
        [
         "4",
         "u0aYTqXj_1I",
         "The Shocking History of AI and Machine Learning! - Journey since 1939 🔥",
         "2025-06-14 15:43:44+00:00",
         "158854",
         "5874",
         "516"
        ]
       ],
       "shape": {
        "columns": 6,
        "rows": 5
       }
      },
      "text/html": [
       "<div>\n",
       "<style scoped>\n",
       "    .dataframe tbody tr th:only-of-type {\n",
       "        vertical-align: middle;\n",
       "    }\n",
       "\n",
       "    .dataframe tbody tr th {\n",
       "        vertical-align: top;\n",
       "    }\n",
       "\n",
       "    .dataframe thead th {\n",
       "        text-align: right;\n",
       "    }\n",
       "</style>\n",
       "<table border=\"1\" class=\"dataframe\">\n",
       "  <thead>\n",
       "    <tr style=\"text-align: right;\">\n",
       "      <th></th>\n",
       "      <th>video_id</th>\n",
       "      <th>title</th>\n",
       "      <th>published_date</th>\n",
       "      <th>views</th>\n",
       "      <th>likes</th>\n",
       "      <th>comments</th>\n",
       "    </tr>\n",
       "  </thead>\n",
       "  <tbody>\n",
       "    <tr>\n",
       "      <th>0</th>\n",
       "      <td>yE6tIle64tU</td>\n",
       "      <td>SQL Tutorial for Beginners (Complete Course us...</td>\n",
       "      <td>2025-07-13 15:48:18+00:00</td>\n",
       "      <td>356979</td>\n",
       "      <td>13542</td>\n",
       "      <td>1488</td>\n",
       "    </tr>\n",
       "    <tr>\n",
       "      <th>1</th>\n",
       "      <td>CF52N-w4anI</td>\n",
       "      <td>Your First Programming Language in the AI Era ...</td>\n",
       "      <td>2025-07-05 11:30:20+00:00</td>\n",
       "      <td>575050</td>\n",
       "      <td>21629</td>\n",
       "      <td>1775</td>\n",
       "    </tr>\n",
       "    <tr>\n",
       "      <th>2</th>\n",
       "      <td>b7ttYWrJzCI</td>\n",
       "      <td>You can do much more with AI 🔥</td>\n",
       "      <td>2025-07-03 13:30:28+00:00</td>\n",
       "      <td>138671</td>\n",
       "      <td>6718</td>\n",
       "      <td>412</td>\n",
       "    </tr>\n",
       "    <tr>\n",
       "      <th>3</th>\n",
       "      <td>t1h5vHJ0mCQ</td>\n",
       "      <td>AI &amp; Machine Learning Roadmap (No Fluff)</td>\n",
       "      <td>2025-06-22 06:18:43+00:00</td>\n",
       "      <td>350063</td>\n",
       "      <td>15096</td>\n",
       "      <td>1185</td>\n",
       "    </tr>\n",
       "    <tr>\n",
       "      <th>4</th>\n",
       "      <td>u0aYTqXj_1I</td>\n",
       "      <td>The Shocking History of AI and Machine Learnin...</td>\n",
       "      <td>2025-06-14 15:43:44+00:00</td>\n",
       "      <td>158854</td>\n",
       "      <td>5874</td>\n",
       "      <td>516</td>\n",
       "    </tr>\n",
       "  </tbody>\n",
       "</table>\n",
       "</div>"
      ],
      "text/plain": [
       "      video_id                                              title  \\\n",
       "0  yE6tIle64tU  SQL Tutorial for Beginners (Complete Course us...   \n",
       "1  CF52N-w4anI  Your First Programming Language in the AI Era ...   \n",
       "2  b7ttYWrJzCI                     You can do much more with AI 🔥   \n",
       "3  t1h5vHJ0mCQ           AI & Machine Learning Roadmap (No Fluff)   \n",
       "4  u0aYTqXj_1I  The Shocking History of AI and Machine Learnin...   \n",
       "\n",
       "             published_date   views  likes  comments  \n",
       "0 2025-07-13 15:48:18+00:00  356979  13542      1488  \n",
       "1 2025-07-05 11:30:20+00:00  575050  21629      1775  \n",
       "2 2025-07-03 13:30:28+00:00  138671   6718       412  \n",
       "3 2025-06-22 06:18:43+00:00  350063  15096      1185  \n",
       "4 2025-06-14 15:43:44+00:00  158854   5874       516  "
      ]
     },
     "execution_count": 36,
     "metadata": {},
     "output_type": "execute_result"
    }
   ],
   "source": [
    "video_details_df.head()"
   ]
  },
  {
   "cell_type": "code",
   "execution_count": 37,
   "metadata": {},
   "outputs": [],
   "source": [
    "## average number of views, likes, and comments per video\n",
    "\n",
    "average_views = video_details_df['views'].mean()\n",
    "average_likes = video_details_df['likes'].mean()\n",
    "average_comments = video_details_df['comments'].mean()"
   ]
  },
  {
   "cell_type": "code",
   "execution_count": 38,
   "metadata": {},
   "outputs": [
    {
     "name": "stdout",
     "output_type": "stream",
     "text": [
      "Average Views: 401470.05\n",
      "Average Likes: 13917.35\n",
      "Average Comments: 924.49\n"
     ]
    }
   ],
   "source": [
    "print(f\"Average Views: {average_views:.2f}\")\n",
    "print(f\"Average Likes: {average_likes:.2f}\")\n",
    "print(f\"Average Comments: {average_comments:.2f}\")\n"
   ]
  },
  {
   "cell_type": "code",
   "execution_count": 39,
   "metadata": {},
   "outputs": [
    {
     "data": {
      "application/vnd.microsoft.datawrangler.viewer.v0+json": {
       "columns": [
        {
         "name": "index",
         "rawType": "int64",
         "type": "integer"
        },
        {
         "name": "video_id",
         "rawType": "object",
         "type": "string"
        },
        {
         "name": "title",
         "rawType": "object",
         "type": "string"
        },
        {
         "name": "published_date",
         "rawType": "datetime64[ns, UTC]",
         "type": "unknown"
        },
        {
         "name": "views",
         "rawType": "int64",
         "type": "integer"
        },
        {
         "name": "likes",
         "rawType": "int64",
         "type": "integer"
        },
        {
         "name": "comments",
         "rawType": "int64",
         "type": "integer"
        }
       ],
       "ref": "c156a443-fc99-4403-83da-84f4a1771952",
       "rows": [
        [
         "47",
         "mXZb9NytbmI",
         "CodeWithHarry 2024 Rewind 🔥",
         "2024-12-29 11:30:33+00:00",
         "59805",
         "4975",
         "864"
        ],
        [
         "48",
         "9ja99LqXQLg",
         "Upcoming Products (Google Insider Reveals)",
         "2024-12-29 05:30:04+00:00",
         "59088",
         "2717",
         "18"
        ],
        [
         "49",
         "Jl4Mv3mwVX0",
         "Security & Google 🔥",
         "2024-12-27 12:01:05+00:00",
         "143291",
         "8593",
         "47"
        ],
        [
         "50",
         "WXqOc-oor-E",
         "Two Weeks is what it takes...",
         "2024-12-25 12:48:27+00:00",
         "231420",
         "15655",
         "769"
        ],
        [
         "51",
         "1XuyLPkFlZo",
         "Why use Google Workspace ft. Prakash, India Lead Customer Engineering at Google 🔥",
         "2024-12-23 12:32:09+00:00",
         "67701",
         "2474",
         "35"
        ],
        [
         "52",
         "Dbyz5XjQer4",
         "Top 3 Skills every Data Scientist must have 🔥",
         "2024-12-20 14:06:12+00:00",
         "307420",
         "21080",
         "75"
        ],
        [
         "53",
         "fKhyUZRsJXg",
         "AI for Academic Research 🔥",
         "2024-12-19 15:22:04+00:00",
         "31089",
         "1413",
         "183"
        ],
        [
         "54",
         "IuVIR1OZy7M",
         "Get GitHub Copilot - Free!!!",
         "2024-12-19 13:38:08+00:00",
         "180470",
         "10269",
         "102"
        ],
        [
         "55",
         "C5-K-Z6Ubac",
         "How to Integrate AI in your Backend using CopilotKit | CopilotKit Backend Actions Tutorial 🔥",
         "2024-12-19 06:27:07+00:00",
         "35935",
         "1370",
         "179"
        ],
        [
         "56",
         "dvDBwi1AohM",
         "How to Make 2025 the Best Year of Your Life 🔥",
         "2024-12-18 11:30:31+00:00",
         "167950",
         "9450",
         "379"
        ],
        [
         "57",
         "zUFb9UAKgjw",
         "Top Skills Every Software Engineer Should Learn in 2025",
         "2024-12-15 11:30:29+00:00",
         "635645",
         "22441",
         "831"
        ],
        [
         "58",
         "MnqzB5qlIiE",
         "How To Make Money With AI (More than you think)",
         "2024-12-13 14:22:00+00:00",
         "400330",
         "15459",
         "630"
        ],
        [
         "59",
         "5AhLRjkFeZk",
         "5 Mistakes Beginner Web Developers Make (Avoid These)",
         "2024-12-11 11:30:02+00:00",
         "220630",
         "11744",
         "564"
        ],
        [
         "60",
         "FBJ2HZr2hH4",
         "How to use AI Effectively - Prompts, Tips & Tricks🔥",
         "2024-12-07 12:48:52+00:00",
         "108795",
         "6620",
         "347"
        ],
        [
         "61",
         "lENeZmjD2zc",
         "Should You Learn AWS, DevOps & Cloud Computing in 2025?",
         "2024-12-06 11:30:28+00:00",
         "372691",
         "12513",
         "696"
        ],
        [
         "62",
         "igTVqtlrLxA",
         "How to Start an E-Commerce Business in India? (Complete Guide)",
         "2024-12-04 11:30:36+00:00",
         "393394",
         "16390",
         "501"
        ],
        [
         "63",
         "zavm_e4Oo8w",
         "How to Build an Ecommerce Website in 15 Minutes (2025) 🔥",
         "2024-11-30 11:30:28+00:00",
         "148128",
         "5184",
         "522"
        ],
        [
         "64",
         "tmscF9Kn98o",
         "Top Skill to Learn in 2025 🔥",
         "2024-11-27 11:32:45+00:00",
         "616621",
         "52029",
         "389"
        ],
        [
         "65",
         "sRAE04-TI8I",
         "Must Use Python libraries for Data Analysis 🔥",
         "2024-11-24 11:30:25+00:00",
         "47630",
         "1902",
         "226"
        ],
        [
         "66",
         "HDXpGgieFDg",
         "What Do Software Engineers Actually Do? (It’s Not What You Think)",
         "2024-11-21 11:30:15+00:00",
         "284904",
         "12252",
         "620"
        ],
        [
         "67",
         "kI6YZA9ZL6c",
         "How I would learn to code (If I could start over)",
         "2024-11-18 11:30:25+00:00",
         "289896",
         "16390",
         "827"
        ],
        [
         "68",
         "WK4olrpvW9A",
         "Ultimate WordPress Tutorial 2025: Build Your Site in Just 40 Minutes! 🔥",
         "2024-11-15 13:18:27+00:00",
         "496442",
         "12944",
         "756"
        ],
        [
         "69",
         "iZb0NsF3Xwg",
         "My Last Video | Sigma Web Development Course - Tutorial #139",
         "2024-11-11 11:30:25+00:00",
         "525974",
         "35359",
         "2975"
        ],
        [
         "70",
         "IW1hcRXK2yQ",
         "Deploying our Next.js App to Vercel | Sigma Web Development Course - Tutorial #138",
         "2024-11-10 05:30:11+00:00",
         "74501",
         "1453",
         "227"
        ],
        [
         "71",
         "1227R6KY8Ts",
         "Ultimate Web Scraping tutorial",
         "2024-11-08 11:30:02+00:00",
         "119149",
         "3134",
         "213"
        ],
        [
         "72",
         "izwkombjECA",
         "[Project] Let's Build a LinkTree Clone in Next.js 15 | Sigma Web Development Course - Tutorial #137",
         "2024-11-05 14:46:33+00:00",
         "71193",
         "1326",
         "197"
        ],
        [
         "73",
         "Ojo_lo0djbQ",
         "[Project] Let's Build a Url Shortener in Next.js 15 | Sigma Web Development Course - Tutorial #136",
         "2024-11-03 15:21:38+00:00",
         "60162",
         "1455",
         "224"
        ],
        [
         "74",
         "lydtwUzCFJY",
         "Add AI to your Existing Applications using this AI Tool 🔥",
         "2024-10-24 11:30:27+00:00",
         "40017",
         "1501",
         "192"
        ],
        [
         "75",
         "M6aXSV2HAHo",
         "Styled JSX and other ways to Style in Next.js | Sigma Web Development Course - Tutorial #135",
         "2024-10-21 11:30:23+00:00",
         "28953",
         "951",
         "211"
        ],
        [
         "76",
         "yJrEWJe1C-s",
         "The Best Network monitoring and device blocking app for PC and mobile | Trying the Fing Wifi app 🔥",
         "2024-10-20 11:30:37+00:00",
         "34673",
         "1161",
         "127"
        ],
        [
         "77",
         "DbVI7QnDnjY",
         "Environment Variables in Next.js | Sigma Web Development Course - Tutorial #134",
         "2024-10-19 12:47:37+00:00",
         "22525",
         "905",
         "166"
        ],
        [
         "78",
         "paqgv6b0XAM",
         "This AI Image API is amazing!",
         "2024-10-18 11:30:36+00:00",
         "26986",
         "1110",
         "103"
        ],
        [
         "79",
         "O0UGlA1YVUI",
         "SSR, SSG & ISR in Next.js | Sigma Web Development Course - Tutorial #133",
         "2024-10-17 14:30:11+00:00",
         "30686",
         "1267",
         "242"
        ],
        [
         "80",
         "-GZh2h1lRMU",
         "Is AI & ML Worth the Hype?",
         "2024-10-16 14:15:47+00:00",
         "151399",
         "6434",
         "511"
        ],
        [
         "81",
         "K052tdPqa5U",
         "Understanding next/navigation module in Next.js | Sigma Web Development Course - Tutorial #132",
         "2024-10-15 11:30:12+00:00",
         "23368",
         "920",
         "210"
        ],
        [
         "82",
         "I3BuXKQjZiI",
         "Strapi 5 Crash Course for Beginners 🔥",
         "2024-10-11 11:30:09+00:00",
         "41267",
         "987",
         "143"
        ],
        [
         "83",
         "hfj3rLVU8eE",
         "AI for Testing 🔥",
         "2024-10-10 17:00:37+00:00",
         "67587",
         "3717",
         "60"
        ],
        [
         "84",
         "mkHgwPkfqmw",
         "How to Scrape Amazon Using AI (with least manual coding) 🔥",
         "2024-10-10 11:30:27+00:00",
         "19047",
         "762",
         "107"
        ],
        [
         "85",
         "TtzYr10g348",
         "Host & Test Free Llama Models on your own Server + Kusho AI for Gen AI Testing",
         "2024-10-09 11:30:19+00:00",
         "20155",
         "769",
         "98"
        ],
        [
         "86",
         "wlEjxETuGT4",
         "I Built an AI Agent to Help me Get a Job 🔥",
         "2024-10-06 05:30:21+00:00",
         "37849",
         "1634",
         "151"
        ],
        [
         "87",
         "JRc-Wm_IBBY",
         "How to Build a Website in 10 Minutes Using WordPress & AI (No Coding Required)🔥",
         "2024-10-05 05:30:06+00:00",
         "106372",
         "2828",
         "221"
        ],
        [
         "88",
         "Xr4ecvsHVi4",
         "AI assisted academic writing 🔥 #ai_thor",
         "2024-10-04 12:13:52+00:00",
         "83467",
         "7731",
         "50"
        ],
        [
         "89",
         "_u8LMwD2XDU",
         "Should You Learn Multiple Programming Languages? (The Truth)",
         "2024-10-03 11:30:24+00:00",
         "138526",
         "6536",
         "733"
        ],
        [
         "90",
         "HQJPqz5ezQY",
         "Best Data Analyst Learning Resources in 2025",
         "2024-09-29 11:00:21+00:00",
         "282657",
         "10797",
         "448"
        ],
        [
         "91",
         "k2DSi1zGEc8",
         "HTML Full Course (in Hindi)",
         "2024-09-28 12:56:12+00:00",
         "1428148",
         "33368",
         "5222"
        ],
        [
         "92",
         "1dvV6KfodEU",
         "Instagram Comments & Posts Automation using Make 🔥",
         "2024-09-26 11:57:50+00:00",
         "29648",
         "1158",
         "137"
        ],
        [
         "93",
         "Ckto_aO4hB4",
         "I Created SEO Friendly Blogs using AI (Experiment)",
         "2024-09-24 11:30:07+00:00",
         "65796",
         "2303",
         "194"
        ],
        [
         "94",
         "6xh6deesFKc",
         "India's E-Commerce Tech #meesho #api #coding #tech",
         "2024-09-13 11:30:04+00:00",
         "72744",
         "5338",
         "84"
        ],
        [
         "95",
         "BLRFduFGrfI",
         "Complete CyberSecurity Roadmap 2025 (Beginner's Guide)",
         "2024-09-11 11:46:10+00:00",
         "446107",
         "18596",
         "846"
        ],
        [
         "96",
         "HHBF5efMTPI",
         "How I Created AI Agents That Do My Work For Me 🔥",
         "2024-09-08 05:30:11+00:00",
         "336848",
         "9888",
         "553"
        ]
       ],
       "shape": {
        "columns": 6,
        "rows": 188
       }
      },
      "text/html": [
       "<div>\n",
       "<style scoped>\n",
       "    .dataframe tbody tr th:only-of-type {\n",
       "        vertical-align: middle;\n",
       "    }\n",
       "\n",
       "    .dataframe tbody tr th {\n",
       "        vertical-align: top;\n",
       "    }\n",
       "\n",
       "    .dataframe thead th {\n",
       "        text-align: right;\n",
       "    }\n",
       "</style>\n",
       "<table border=\"1\" class=\"dataframe\">\n",
       "  <thead>\n",
       "    <tr style=\"text-align: right;\">\n",
       "      <th></th>\n",
       "      <th>video_id</th>\n",
       "      <th>title</th>\n",
       "      <th>published_date</th>\n",
       "      <th>views</th>\n",
       "      <th>likes</th>\n",
       "      <th>comments</th>\n",
       "    </tr>\n",
       "  </thead>\n",
       "  <tbody>\n",
       "    <tr>\n",
       "      <th>47</th>\n",
       "      <td>mXZb9NytbmI</td>\n",
       "      <td>CodeWithHarry 2024 Rewind 🔥</td>\n",
       "      <td>2024-12-29 11:30:33+00:00</td>\n",
       "      <td>59805</td>\n",
       "      <td>4975</td>\n",
       "      <td>864</td>\n",
       "    </tr>\n",
       "    <tr>\n",
       "      <th>48</th>\n",
       "      <td>9ja99LqXQLg</td>\n",
       "      <td>Upcoming Products (Google Insider Reveals)</td>\n",
       "      <td>2024-12-29 05:30:04+00:00</td>\n",
       "      <td>59088</td>\n",
       "      <td>2717</td>\n",
       "      <td>18</td>\n",
       "    </tr>\n",
       "    <tr>\n",
       "      <th>49</th>\n",
       "      <td>Jl4Mv3mwVX0</td>\n",
       "      <td>Security &amp; Google 🔥</td>\n",
       "      <td>2024-12-27 12:01:05+00:00</td>\n",
       "      <td>143291</td>\n",
       "      <td>8593</td>\n",
       "      <td>47</td>\n",
       "    </tr>\n",
       "    <tr>\n",
       "      <th>50</th>\n",
       "      <td>WXqOc-oor-E</td>\n",
       "      <td>Two Weeks is what it takes...</td>\n",
       "      <td>2024-12-25 12:48:27+00:00</td>\n",
       "      <td>231420</td>\n",
       "      <td>15655</td>\n",
       "      <td>769</td>\n",
       "    </tr>\n",
       "    <tr>\n",
       "      <th>51</th>\n",
       "      <td>1XuyLPkFlZo</td>\n",
       "      <td>Why use Google Workspace ft. Prakash, India Le...</td>\n",
       "      <td>2024-12-23 12:32:09+00:00</td>\n",
       "      <td>67701</td>\n",
       "      <td>2474</td>\n",
       "      <td>35</td>\n",
       "    </tr>\n",
       "    <tr>\n",
       "      <th>...</th>\n",
       "      <td>...</td>\n",
       "      <td>...</td>\n",
       "      <td>...</td>\n",
       "      <td>...</td>\n",
       "      <td>...</td>\n",
       "      <td>...</td>\n",
       "    </tr>\n",
       "    <tr>\n",
       "      <th>230</th>\n",
       "      <td>SksvlZM-5Sk</td>\n",
       "      <td>Response, Request and Routers in Express | Sig...</td>\n",
       "      <td>2024-01-05 14:57:21+00:00</td>\n",
       "      <td>141264</td>\n",
       "      <td>4250</td>\n",
       "      <td>376</td>\n",
       "    </tr>\n",
       "    <tr>\n",
       "      <th>231</th>\n",
       "      <td>R11tvGM3nDY</td>\n",
       "      <td>Introduction to Express Js | Sigma Web Develop...</td>\n",
       "      <td>2024-01-05 04:30:07+00:00</td>\n",
       "      <td>163372</td>\n",
       "      <td>5296</td>\n",
       "      <td>731</td>\n",
       "    </tr>\n",
       "    <tr>\n",
       "      <th>232</th>\n",
       "      <td>C8qEifIlH_k</td>\n",
       "      <td>🤑₹3,30,000 New Year Gift for Myself -  Lifesty...</td>\n",
       "      <td>2024-01-03 12:56:18+00:00</td>\n",
       "      <td>247281</td>\n",
       "      <td>9716</td>\n",
       "      <td>974</td>\n",
       "    </tr>\n",
       "    <tr>\n",
       "      <th>233</th>\n",
       "      <td>BTcmvrCTyNg</td>\n",
       "      <td>Working with Files: fs and path Modules | Sigm...</td>\n",
       "      <td>2024-01-03 04:30:03+00:00</td>\n",
       "      <td>123431</td>\n",
       "      <td>4199</td>\n",
       "      <td>282</td>\n",
       "    </tr>\n",
       "    <tr>\n",
       "      <th>234</th>\n",
       "      <td>bU69doALJGU</td>\n",
       "      <td>CommonJs Vs EcmaScript Modules | Sigma Web Dev...</td>\n",
       "      <td>2024-01-02 10:56:57+00:00</td>\n",
       "      <td>168794</td>\n",
       "      <td>5081</td>\n",
       "      <td>457</td>\n",
       "    </tr>\n",
       "  </tbody>\n",
       "</table>\n",
       "<p>188 rows × 6 columns</p>\n",
       "</div>"
      ],
      "text/plain": [
       "        video_id                                              title  \\\n",
       "47   mXZb9NytbmI                        CodeWithHarry 2024 Rewind 🔥   \n",
       "48   9ja99LqXQLg         Upcoming Products (Google Insider Reveals)   \n",
       "49   Jl4Mv3mwVX0                                Security & Google 🔥   \n",
       "50   WXqOc-oor-E                      Two Weeks is what it takes...   \n",
       "51   1XuyLPkFlZo  Why use Google Workspace ft. Prakash, India Le...   \n",
       "..           ...                                                ...   \n",
       "230  SksvlZM-5Sk  Response, Request and Routers in Express | Sig...   \n",
       "231  R11tvGM3nDY  Introduction to Express Js | Sigma Web Develop...   \n",
       "232  C8qEifIlH_k  🤑₹3,30,000 New Year Gift for Myself -  Lifesty...   \n",
       "233  BTcmvrCTyNg  Working with Files: fs and path Modules | Sigm...   \n",
       "234  bU69doALJGU  CommonJs Vs EcmaScript Modules | Sigma Web Dev...   \n",
       "\n",
       "               published_date   views  likes  comments  \n",
       "47  2024-12-29 11:30:33+00:00   59805   4975       864  \n",
       "48  2024-12-29 05:30:04+00:00   59088   2717        18  \n",
       "49  2024-12-27 12:01:05+00:00  143291   8593        47  \n",
       "50  2024-12-25 12:48:27+00:00  231420  15655       769  \n",
       "51  2024-12-23 12:32:09+00:00   67701   2474        35  \n",
       "..                        ...     ...    ...       ...  \n",
       "230 2024-01-05 14:57:21+00:00  141264   4250       376  \n",
       "231 2024-01-05 04:30:07+00:00  163372   5296       731  \n",
       "232 2024-01-03 12:56:18+00:00  247281   9716       974  \n",
       "233 2024-01-03 04:30:03+00:00  123431   4199       282  \n",
       "234 2024-01-02 10:56:57+00:00  168794   5081       457  \n",
       "\n",
       "[188 rows x 6 columns]"
      ]
     },
     "execution_count": 39,
     "metadata": {},
     "output_type": "execute_result"
    }
   ],
   "source": [
    "## Average number of views, likes, and comments per video in 2024\n",
    "# Filter videos published in 2024\n",
    "filter_2024 = video_details_df[video_details_df['published_date'].dt.year == 2024]\n",
    "filter_2024"
   ]
  },
  {
   "cell_type": "code",
   "execution_count": 40,
   "metadata": {},
   "outputs": [],
   "source": [
    "# Calculate averages for views, likes, and comments\n",
    "average_views = filter_2024['views'].astype(int).mean()\n",
    "average_likes = filter_2024['likes'].astype(int).mean()\n",
    "average_comments = filter_2024['comments'].astype(int).mean()"
   ]
  },
  {
   "cell_type": "code",
   "execution_count": 41,
   "metadata": {},
   "outputs": [
    {
     "name": "stdout",
     "output_type": "stream",
     "text": [
      "Average Views per Video in 2024: 329799.829787234\n",
      "Average Likes per Video in 2024: 12026.08510638298\n",
      "Average Comments per Video in 2024: 884.0478723404256\n"
     ]
    }
   ],
   "source": [
    "# Display the results\n",
    "print(f\"Average Views per Video in 2024: {average_views}\")\n",
    "print(f\"Average Likes per Video in 2024: {average_likes}\")\n",
    "print(f\"Average Comments per Video in 2024: {average_comments}\")"
   ]
  },
  {
   "cell_type": "code",
   "execution_count": 42,
   "metadata": {},
   "outputs": [],
   "source": [
    "### Top 10 viedos in the channel\n",
    "top10_videos = video_details_df.sort_values(by='views',\n",
    "                                            ascending=False).head(10)"
   ]
  },
  {
   "cell_type": "code",
   "execution_count": 43,
   "metadata": {},
   "outputs": [
    {
     "data": {
      "application/vnd.microsoft.datawrangler.viewer.v0+json": {
       "columns": [
        {
         "name": "index",
         "rawType": "int64",
         "type": "integer"
        },
        {
         "name": "video_id",
         "rawType": "object",
         "type": "string"
        },
        {
         "name": "title",
         "rawType": "object",
         "type": "string"
        },
        {
         "name": "published_date",
         "rawType": "datetime64[ns, UTC]",
         "type": "unknown"
        },
        {
         "name": "views",
         "rawType": "int64",
         "type": "integer"
        },
        {
         "name": "likes",
         "rawType": "int64",
         "type": "integer"
        },
        {
         "name": "comments",
         "rawType": "int64",
         "type": "integer"
        }
       ],
       "ref": "0b85aebc-1c7c-491a-b754-1783c21ec396",
       "rows": [
        [
         "1425",
         "gfDE2a7MKjA",
         "Python Tutorial For Beginners In Hindi (With Notes) 🔥",
         "2020-09-24 11:34:17+00:00",
         "24709129",
         "638413",
         "122983"
        ],
        [
         "1532",
         "ZSPZob_1TOk",
         "C Language Tutorial For Beginners In Hindi (With Notes) 🔥",
         "2020-07-28 11:30:03+00:00",
         "18372513",
         "419236",
         "76898"
        ],
        [
         "1266",
         "BsDoLVMnmZs",
         "HTML Tutorial For Beginners In Hindi (With Notes) 🔥",
         "2021-03-17 02:55:23+00:00",
         "14111989",
         "343934",
         "29510"
        ],
        [
         "125",
         "UrsmFxEIp5k",
         "Python Tutorial For Beginners in Hindi | Complete Python Course 🔥",
         "2024-06-16 05:36:24+00:00",
         "11342120",
         "249243",
         "33182"
        ],
        [
         "1474",
         "ntLJmHOJ0ME",
         "Introduction to Java + Installing Java JDK and IntelliJ IDEA for Java",
         "2020-08-30 16:01:22+00:00",
         "10548848",
         "180677",
         "22628"
        ],
        [
         "618",
         "7wnove7K-ZQ",
         "Introduction to Programming & Python | Python Tutorial - Day #1",
         "2022-11-28 11:30:03+00:00",
         "9701506",
         "232242",
         "29978"
        ],
        [
         "1828",
         "6mbwJ2xhgzM",
         "Introduction to HTML, CSS, JavaScript & How websites work? | Web Development Tutorials #1",
         "2019-12-25 08:12:47+00:00",
         "8445970",
         "215182",
         "17015"
        ],
        [
         "1791",
         "j8nAHeVKL08",
         "Introduction to C++, Installing VS Code, g++ & more | C++ Tutorials for Beginners #1",
         "2020-01-11 13:51:01+00:00",
         "7750233",
         "154264",
         "16396"
        ],
        [
         "1619",
         "hKB-YGF14SY",
         "JavaScript Tutorial In Hindi",
         "2020-05-16 17:57:42+00:00",
         "7211988",
         "200014",
         "24918"
        ],
        [
         "1258",
         "Edsxf_NBFrw",
         "CSS Tutorial In Hindi (With Notes) 🔥",
         "2021-04-27 18:39:49+00:00",
         "7067338",
         "136620",
         "17176"
        ]
       ],
       "shape": {
        "columns": 6,
        "rows": 10
       }
      },
      "text/html": [
       "<div>\n",
       "<style scoped>\n",
       "    .dataframe tbody tr th:only-of-type {\n",
       "        vertical-align: middle;\n",
       "    }\n",
       "\n",
       "    .dataframe tbody tr th {\n",
       "        vertical-align: top;\n",
       "    }\n",
       "\n",
       "    .dataframe thead th {\n",
       "        text-align: right;\n",
       "    }\n",
       "</style>\n",
       "<table border=\"1\" class=\"dataframe\">\n",
       "  <thead>\n",
       "    <tr style=\"text-align: right;\">\n",
       "      <th></th>\n",
       "      <th>video_id</th>\n",
       "      <th>title</th>\n",
       "      <th>published_date</th>\n",
       "      <th>views</th>\n",
       "      <th>likes</th>\n",
       "      <th>comments</th>\n",
       "    </tr>\n",
       "  </thead>\n",
       "  <tbody>\n",
       "    <tr>\n",
       "      <th>1425</th>\n",
       "      <td>gfDE2a7MKjA</td>\n",
       "      <td>Python Tutorial For Beginners In Hindi (With N...</td>\n",
       "      <td>2020-09-24 11:34:17+00:00</td>\n",
       "      <td>24709129</td>\n",
       "      <td>638413</td>\n",
       "      <td>122983</td>\n",
       "    </tr>\n",
       "    <tr>\n",
       "      <th>1532</th>\n",
       "      <td>ZSPZob_1TOk</td>\n",
       "      <td>C Language Tutorial For Beginners In Hindi (Wi...</td>\n",
       "      <td>2020-07-28 11:30:03+00:00</td>\n",
       "      <td>18372513</td>\n",
       "      <td>419236</td>\n",
       "      <td>76898</td>\n",
       "    </tr>\n",
       "    <tr>\n",
       "      <th>1266</th>\n",
       "      <td>BsDoLVMnmZs</td>\n",
       "      <td>HTML Tutorial For Beginners In Hindi (With Not...</td>\n",
       "      <td>2021-03-17 02:55:23+00:00</td>\n",
       "      <td>14111989</td>\n",
       "      <td>343934</td>\n",
       "      <td>29510</td>\n",
       "    </tr>\n",
       "    <tr>\n",
       "      <th>125</th>\n",
       "      <td>UrsmFxEIp5k</td>\n",
       "      <td>Python Tutorial For Beginners in Hindi | Compl...</td>\n",
       "      <td>2024-06-16 05:36:24+00:00</td>\n",
       "      <td>11342120</td>\n",
       "      <td>249243</td>\n",
       "      <td>33182</td>\n",
       "    </tr>\n",
       "    <tr>\n",
       "      <th>1474</th>\n",
       "      <td>ntLJmHOJ0ME</td>\n",
       "      <td>Introduction to Java + Installing Java JDK and...</td>\n",
       "      <td>2020-08-30 16:01:22+00:00</td>\n",
       "      <td>10548848</td>\n",
       "      <td>180677</td>\n",
       "      <td>22628</td>\n",
       "    </tr>\n",
       "    <tr>\n",
       "      <th>618</th>\n",
       "      <td>7wnove7K-ZQ</td>\n",
       "      <td>Introduction to Programming &amp; Python | Python ...</td>\n",
       "      <td>2022-11-28 11:30:03+00:00</td>\n",
       "      <td>9701506</td>\n",
       "      <td>232242</td>\n",
       "      <td>29978</td>\n",
       "    </tr>\n",
       "    <tr>\n",
       "      <th>1828</th>\n",
       "      <td>6mbwJ2xhgzM</td>\n",
       "      <td>Introduction to HTML, CSS, JavaScript &amp; How we...</td>\n",
       "      <td>2019-12-25 08:12:47+00:00</td>\n",
       "      <td>8445970</td>\n",
       "      <td>215182</td>\n",
       "      <td>17015</td>\n",
       "    </tr>\n",
       "    <tr>\n",
       "      <th>1791</th>\n",
       "      <td>j8nAHeVKL08</td>\n",
       "      <td>Introduction to C++, Installing VS Code, g++ &amp;...</td>\n",
       "      <td>2020-01-11 13:51:01+00:00</td>\n",
       "      <td>7750233</td>\n",
       "      <td>154264</td>\n",
       "      <td>16396</td>\n",
       "    </tr>\n",
       "    <tr>\n",
       "      <th>1619</th>\n",
       "      <td>hKB-YGF14SY</td>\n",
       "      <td>JavaScript Tutorial In Hindi</td>\n",
       "      <td>2020-05-16 17:57:42+00:00</td>\n",
       "      <td>7211988</td>\n",
       "      <td>200014</td>\n",
       "      <td>24918</td>\n",
       "    </tr>\n",
       "    <tr>\n",
       "      <th>1258</th>\n",
       "      <td>Edsxf_NBFrw</td>\n",
       "      <td>CSS Tutorial In Hindi (With Notes) 🔥</td>\n",
       "      <td>2021-04-27 18:39:49+00:00</td>\n",
       "      <td>7067338</td>\n",
       "      <td>136620</td>\n",
       "      <td>17176</td>\n",
       "    </tr>\n",
       "  </tbody>\n",
       "</table>\n",
       "</div>"
      ],
      "text/plain": [
       "         video_id                                              title  \\\n",
       "1425  gfDE2a7MKjA  Python Tutorial For Beginners In Hindi (With N...   \n",
       "1532  ZSPZob_1TOk  C Language Tutorial For Beginners In Hindi (Wi...   \n",
       "1266  BsDoLVMnmZs  HTML Tutorial For Beginners In Hindi (With Not...   \n",
       "125   UrsmFxEIp5k  Python Tutorial For Beginners in Hindi | Compl...   \n",
       "1474  ntLJmHOJ0ME  Introduction to Java + Installing Java JDK and...   \n",
       "618   7wnove7K-ZQ  Introduction to Programming & Python | Python ...   \n",
       "1828  6mbwJ2xhgzM  Introduction to HTML, CSS, JavaScript & How we...   \n",
       "1791  j8nAHeVKL08  Introduction to C++, Installing VS Code, g++ &...   \n",
       "1619  hKB-YGF14SY                       JavaScript Tutorial In Hindi   \n",
       "1258  Edsxf_NBFrw               CSS Tutorial In Hindi (With Notes) 🔥   \n",
       "\n",
       "                published_date     views   likes  comments  \n",
       "1425 2020-09-24 11:34:17+00:00  24709129  638413    122983  \n",
       "1532 2020-07-28 11:30:03+00:00  18372513  419236     76898  \n",
       "1266 2021-03-17 02:55:23+00:00  14111989  343934     29510  \n",
       "125  2024-06-16 05:36:24+00:00  11342120  249243     33182  \n",
       "1474 2020-08-30 16:01:22+00:00  10548848  180677     22628  \n",
       "618  2022-11-28 11:30:03+00:00   9701506  232242     29978  \n",
       "1828 2019-12-25 08:12:47+00:00   8445970  215182     17015  \n",
       "1791 2020-01-11 13:51:01+00:00   7750233  154264     16396  \n",
       "1619 2020-05-16 17:57:42+00:00   7211988  200014     24918  \n",
       "1258 2021-04-27 18:39:49+00:00   7067338  136620     17176  "
      ]
     },
     "execution_count": 43,
     "metadata": {},
     "output_type": "execute_result"
    }
   ],
   "source": [
    "top10_videos"
   ]
  },
  {
   "cell_type": "code",
   "execution_count": 44,
   "metadata": {},
   "outputs": [
    {
     "data": {
      "image/png": "[encoded data removed]",
      "text/plain": [
       "<Figure size 1200x600 with 1 Axes>"
      ]
     },
     "metadata": {},
     "output_type": "display_data"
    }
   ],
   "source": [
    "## Plotting the top 10 videos with the most views\n",
    "sns.set_style('whitegrid')\n",
    "plt.figure(figsize=(12,6))\n",
    "ax = sns.barplot(x='views', y='title', data=top10_videos, palette='viridis')\n",
    "plt.title('Top 10 Videos with the Most Views', fontsize=15, fontweight='bold')\n",
    "plt.xlabel('Number of Views', fontsize=12, fontweight='bold')\n",
    "plt.ylabel('Video Title', fontsize=12, fontweight='bold')\n",
    "plt.show()\n"
   ]
  },
  {
   "cell_type": "code",
   "execution_count": 45,
   "metadata": {},
   "outputs": [
    {
     "data": {
      "text/plain": [
       "211"
      ]
     },
     "execution_count": 45,
     "metadata": {},
     "output_type": "execute_result"
    }
   ],
   "source": [
    "## number of videos have more than 1M views\n",
    "num_videos_1m = video_details_df[video_details_df['views'] > 1000000].shape[0]\n",
    "num_videos_1m"
   ]
  },
  {
   "cell_type": "code",
   "execution_count": 46,
   "metadata": {},
   "outputs": [
    {
     "data": {
      "text/plain": [
       "11"
      ]
     },
     "execution_count": 46,
     "metadata": {},
     "output_type": "execute_result"
    }
   ],
   "source": [
    "## number of videos have more than 1M views in 2024\n",
    "num_videos_1m_2024 = filter_2024[filter_2024['views'] > 1000000].shape[0]\n",
    "num_videos_1m_2024"
   ]
  },
  {
   "cell_type": "code",
   "execution_count": 47,
   "metadata": {},
   "outputs": [
    {
     "data": {
      "text/plain": [
       "8.556366585563666"
      ]
     },
     "execution_count": 47,
     "metadata": {},
     "output_type": "execute_result"
    }
   ],
   "source": [
    "# Percentage of videos with more than 1M views\n",
    "percentage_1m = num_videos_1m / video_details_df.shape[0] * 100\n",
    "percentage_1m\n"
   ]
  },
  {
   "cell_type": "code",
   "execution_count": 48,
   "metadata": {},
   "outputs": [
    {
     "data": {
      "text/plain": [
       "5.851063829787234"
      ]
     },
     "execution_count": 48,
     "metadata": {},
     "output_type": "execute_result"
    }
   ],
   "source": [
    "## Percentage of videos with more than 1M views in 2024\n",
    "percentage_1m_2024 = num_videos_1m_2024 / filter_2024.shape[0] * 100    \n",
    "percentage_1m_2024"
   ]
  },
  {
   "cell_type": "code",
   "execution_count": 49,
   "metadata": {},
   "outputs": [],
   "source": [
    "## number of videos have been posted per month\n",
    "video_details_df['month'] = video_details_df['published_date'].dt.month\n"
   ]
  },
  {
   "cell_type": "code",
   "execution_count": 50,
   "metadata": {},
   "outputs": [
    {
     "data": {
      "application/vnd.microsoft.datawrangler.viewer.v0+json": {
       "columns": [
        {
         "name": "month",
         "rawType": "int32",
         "type": "integer"
        },
        {
         "name": "count",
         "rawType": "int64",
         "type": "integer"
        }
       ],
       "ref": "a0a5d80d-3e6a-4aff-a9e0-8d3addc5cee7",
       "rows": [
        [
         "1",
         "262"
        ],
        [
         "2",
         "213"
        ],
        [
         "3",
         "134"
        ],
        [
         "4",
         "174"
        ],
        [
         "5",
         "173"
        ],
        [
         "6",
         "187"
        ],
        [
         "7",
         "158"
        ],
        [
         "8",
         "251"
        ],
        [
         "9",
         "237"
        ],
        [
         "10",
         "244"
        ],
        [
         "11",
         "183"
        ],
        [
         "12",
         "250"
        ]
       ],
       "shape": {
        "columns": 1,
        "rows": 12
       }
      },
      "text/plain": [
       "month\n",
       "1     262\n",
       "2     213\n",
       "3     134\n",
       "4     174\n",
       "5     173\n",
       "6     187\n",
       "7     158\n",
       "8     251\n",
       "9     237\n",
       "10    244\n",
       "11    183\n",
       "12    250\n",
       "Name: count, dtype: int64"
      ]
     },
     "execution_count": 50,
     "metadata": {},
     "output_type": "execute_result"
    }
   ],
   "source": [
    "video_per_month = video_details_df['month'].value_counts().sort_index()\n",
    "video_per_month"
   ]
  },
  {
   "cell_type": "code",
   "execution_count": 51,
   "metadata": {},
   "outputs": [
    {
     "data": {
      "image/png": "[encoded data removed]",
      "text/plain": [
       "<Figure size 1200x600 with 1 Axes>"
      ]
     },
     "metadata": {},
     "output_type": "display_data"
    }
   ],
   "source": [
    "## Plotting the number of videos posted per month\n",
    "plt.figure(figsize=(12,6))\n",
    "sns.countplot(x='month', data=video_details_df, palette='viridis')\n",
    "plt.title('Number of Videos Posted per Month', fontsize=15, fontweight='bold')\n",
    "plt.xlabel('Month', fontsize=12, fontweight='bold')\n",
    "plt.ylabel('Number of Videos', fontsize=12, fontweight='bold')\n",
    "plt.show()\n"
   ]
  },
  {
   "cell_type": "code",
   "execution_count": null,
   "metadata": {},
   "outputs": [],
   "source": []
  }
 ],
 "metadata": {
  "kernelspec": {
   "display_name": "Python 3",
   "language": "python",
   "name": "python3"
  },
  "language_info": {
   "codemirror_mode": {
    "name": "ipython",
    "version": 3
   },
   "file_extension": ".py",
   "mimetype": "text/x-python",
   "name": "python",
   "nbconvert_exporter": "python",
   "pygments_lexer": "ipython3",
   "version": "3.11.0"
  }
 },
 "nbformat": 4,
 "nbformat_minor": 2
}
