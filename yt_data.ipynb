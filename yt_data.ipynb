{
 "cells": [
  {
   "cell_type": "code",
   "execution_count": 9,
   "metadata": {},
   "outputs": [],
   "source": [
    "import numpy as np\n",
    "import pandas as pd\n",
    "import matplotlib.pyplot as plt\n",
    "import seaborn as sns\n",
    "import os\n",
    "from googleapiclient.discovery import build\n",
    "from dotenv import load_dotenv\n",
    "from channel_ID import CHANNEL_ID\n",
    "\n"
   ]
  },
  {
   "cell_type": "code",
   "execution_count": 10,
   "metadata": {},
   "outputs": [
    {
     "data": {
      "text/plain": [
       "True"
      ]
     },
     "execution_count": 10,
     "metadata": {},
     "output_type": "execute_result"
    }
   ],
   "source": [
    "## load enviroment variables from the .env files\n",
    "load_dotenv()"
   ]
  },
  {
   "cell_type": "code",
   "execution_count": 11,
   "metadata": {},
   "outputs": [],
   "source": [
    "## get the api key from the .env file\n",
    "api_key = os.getenv(\"api_key\")"
   ]
  },
  {
   "cell_type": "code",
   "execution_count": 12,
   "metadata": {},
   "outputs": [],
   "source": [
    "## create a youtube api client\n",
    "youtube = build('youtube', 'v3', developerKey=api_key)"
   ]
  },
  {
   "cell_type": "code",
   "execution_count": 13,
   "metadata": {},
   "outputs": [],
   "source": [
    "## function to fetch the channel data for a given channel id and youtube api key\n",
    "\n",
    "def channel_data(api_key, channel_id):\n",
    "    all_data = []\n",
    "\n",
    "    request = youtube.channels().list(\n",
    "        part = 'snippet, contentDetails, statistics',\n",
    "        id = ','.join(channel_id)\n",
    "    )\n",
    "    response = request.execute()\n",
    "    for i in range(len(response['items'])):\n",
    "        data = dict(channel_title = response['items'][i]['snippet']['title'],\n",
    "                    created_date = response['items'][i]['snippet']['publishedAt'],\n",
    "                    subscribers = response['items'][i]['statistics']['subscriberCount'],\n",
    "                    total_videos = response['items'][i]['statistics']['videoCount'],\n",
    "                    total_views = response['items'][i]['statistics']['viewCount'],\n",
    "                    playlist_id = response['items'][i]['contentDetails']['relatedPlaylists']['uploads'])\n",
    "        \n",
    "        all_data.append(data)\n",
    "\n",
    "    return all_data"
   ]
  },
  {
   "cell_type": "code",
   "execution_count": 14,
   "metadata": {},
   "outputs": [
    {
     "data": {
      "text/plain": [
       "[{'channel_title': 'Joma Tech',\n",
       "  'created_date': '2016-08-31T22:22:07Z',\n",
       "  'subscribers': '2330000',\n",
       "  'total_videos': '88',\n",
       "  'total_views': '186451452',\n",
       "  'playlist_id': 'UUV0qA-eDDICsRR9rPcnG7tw'},\n",
       " {'channel_title': 'StatQuest with Josh Starmer',\n",
       "  'created_date': '2011-05-24T01:52:48Z',\n",
       "  'subscribers': '1320000',\n",
       "  'total_videos': '285',\n",
       "  'total_views': '73728802',\n",
       "  'playlist_id': 'UUtYLUTtgS3k1Fg4y5tAhLbw'},\n",
       " {'channel_title': 'edureka!',\n",
       "  'created_date': '2012-06-29T06:12:26Z',\n",
       "  'subscribers': '4320000',\n",
       "  'total_videos': '11550',\n",
       "  'total_views': '442327827',\n",
       "  'playlist_id': 'UUkw4JCwteGrDHIsyIIKo4tQ'},\n",
       " {'channel_title': 'sentdex',\n",
       "  'created_date': '2012-12-16T20:49:11Z',\n",
       "  'subscribers': '1380000',\n",
       "  'total_videos': '1255',\n",
       "  'total_views': '116668473',\n",
       "  'playlist_id': 'UUfzlCWGWYyIQ0aLC5w48gBQ'},\n",
       " {'channel_title': 'Data Professor',\n",
       "  'created_date': '2019-08-17T15:59:56Z',\n",
       "  'subscribers': '198000',\n",
       "  'total_videos': '353',\n",
       "  'total_views': '7068096',\n",
       "  'playlist_id': 'UUV8e2g4IWQqK71bbzGDEI4Q'},\n",
       " {'channel_title': 'Simplilearn',\n",
       "  'created_date': '2009-10-29T07:21:23Z',\n",
       "  'subscribers': '4750000',\n",
       "  'total_videos': '8600',\n",
       "  'total_views': '410957054',\n",
       "  'playlist_id': 'UUsvqVGtbbyHaMoevxPAq9Fg'},\n",
       " {'channel_title': 'Innit Podcast',\n",
       "  'created_date': '2022-09-14T07:54:45.021008Z',\n",
       "  'subscribers': '15100',\n",
       "  'total_videos': '235',\n",
       "  'total_views': '1201543',\n",
       "  'playlist_id': 'UUFBoqaPTCtGJi8kr7pV33Tg'},\n",
       " {'channel_title': 'Two Minute Papers',\n",
       "  'created_date': '2006-08-18T00:05:41Z',\n",
       "  'subscribers': '1600000',\n",
       "  'total_videos': '943',\n",
       "  'total_views': '148658470',\n",
       "  'playlist_id': 'UUbfYPyITQ-7l4upoX8nvctg'},\n",
       " {'channel_title': '3Blue1Brown',\n",
       "  'created_date': '2015-03-03T23:11:55Z',\n",
       "  'subscribers': '6840000',\n",
       "  'total_videos': '197',\n",
       "  'total_views': '602754991',\n",
       "  'playlist_id': 'UUYO_jab_esuFRV4b17AJtAw'},\n",
       " {'channel_title': 'CS Dojo',\n",
       "  'created_date': '2016-02-26T01:49:30Z',\n",
       "  'subscribers': '1950000',\n",
       "  'total_videos': '111',\n",
       "  'total_views': '82879290',\n",
       "  'playlist_id': 'UUxX9wt5FWQUAAz4UrysqK9A'},\n",
       " {'channel_title': 'CodeWithHarry',\n",
       "  'created_date': '2018-04-28T14:50:54Z',\n",
       "  'subscribers': '7000000',\n",
       "  'total_videos': '2440',\n",
       "  'total_views': '889272239',\n",
       "  'playlist_id': 'UUeVMnSShP_Iviwkknt83cww'},\n",
       " {'channel_title': 'Siraj Raval',\n",
       "  'created_date': '2016-01-02T00:54:12Z',\n",
       "  'subscribers': '771000',\n",
       "  'total_videos': '476',\n",
       "  'total_views': '51218553',\n",
       "  'playlist_id': 'UUWN3xxRkmTPmbKwht9FuE5A'},\n",
       " {'channel_title': 'Krish Naik',\n",
       "  'created_date': '2012-02-11T04:05:06Z',\n",
       "  'subscribers': '1090000',\n",
       "  'total_videos': '1975',\n",
       "  'total_views': '110687787',\n",
       "  'playlist_id': 'UUNU_lfiiWBdtULKOw6X0Dig'},\n",
       " {'channel_title': 'Ken Jee',\n",
       "  'created_date': '2014-02-28T14:58:24Z',\n",
       "  'subscribers': '265000',\n",
       "  'total_videos': '288',\n",
       "  'total_views': '9283598',\n",
       "  'playlist_id': 'UUiT9RITQ9PW6BhXK0y2jaeg'},\n",
       " {'channel_title': 'Corey Schafer',\n",
       "  'created_date': '2006-05-31T22:49:22Z',\n",
       "  'subscribers': '1400000',\n",
       "  'total_videos': '239',\n",
       "  'total_views': '99968522',\n",
       "  'playlist_id': 'UUCezIgC97PvUuR4_gbFUs5g'}]"
      ]
     },
     "execution_count": 14,
     "metadata": {},
     "output_type": "execute_result"
    }
   ],
   "source": [
    "## Calling the function to get the channel data and store it in a variable\n",
    "\n",
    "channel_stat = channel_data(api_key,CHANNEL_ID)\n",
    "\n",
    "channel_stat\n"
   ]
  },
  {
   "cell_type": "code",
   "execution_count": 15,
   "metadata": {},
   "outputs": [],
   "source": [
    "## Coverting the channel data to a pandas dataframe\n",
    "\n",
    "channel_stat_df = pd.DataFrame(channel_stat)"
   ]
  },
  {
   "cell_type": "code",
   "execution_count": 16,
   "metadata": {},
   "outputs": [
    {
     "data": {
      "text/html": [
       "<div>\n",
       "<style scoped>\n",
       "    .dataframe tbody tr th:only-of-type {\n",
       "        vertical-align: middle;\n",
       "    }\n",
       "\n",
       "    .dataframe tbody tr th {\n",
       "        vertical-align: top;\n",
       "    }\n",
       "\n",
       "    .dataframe thead th {\n",
       "        text-align: right;\n",
       "    }\n",
       "</style>\n",
       "<table border=\"1\" class=\"dataframe\">\n",
       "  <thead>\n",
       "    <tr style=\"text-align: right;\">\n",
       "      <th></th>\n",
       "      <th>channel_title</th>\n",
       "      <th>created_date</th>\n",
       "      <th>subscribers</th>\n",
       "      <th>total_videos</th>\n",
       "      <th>total_views</th>\n",
       "      <th>playlist_id</th>\n",
       "    </tr>\n",
       "  </thead>\n",
       "  <tbody>\n",
       "    <tr>\n",
       "      <th>0</th>\n",
       "      <td>Joma Tech</td>\n",
       "      <td>2016-08-31T22:22:07Z</td>\n",
       "      <td>2330000</td>\n",
       "      <td>88</td>\n",
       "      <td>186451452</td>\n",
       "      <td>UUV0qA-eDDICsRR9rPcnG7tw</td>\n",
       "    </tr>\n",
       "    <tr>\n",
       "      <th>1</th>\n",
       "      <td>StatQuest with Josh Starmer</td>\n",
       "      <td>2011-05-24T01:52:48Z</td>\n",
       "      <td>1320000</td>\n",
       "      <td>285</td>\n",
       "      <td>73728802</td>\n",
       "      <td>UUtYLUTtgS3k1Fg4y5tAhLbw</td>\n",
       "    </tr>\n",
       "    <tr>\n",
       "      <th>2</th>\n",
       "      <td>edureka!</td>\n",
       "      <td>2012-06-29T06:12:26Z</td>\n",
       "      <td>4320000</td>\n",
       "      <td>11550</td>\n",
       "      <td>442327827</td>\n",
       "      <td>UUkw4JCwteGrDHIsyIIKo4tQ</td>\n",
       "    </tr>\n",
       "    <tr>\n",
       "      <th>3</th>\n",
       "      <td>sentdex</td>\n",
       "      <td>2012-12-16T20:49:11Z</td>\n",
       "      <td>1380000</td>\n",
       "      <td>1255</td>\n",
       "      <td>116668473</td>\n",
       "      <td>UUfzlCWGWYyIQ0aLC5w48gBQ</td>\n",
       "    </tr>\n",
       "    <tr>\n",
       "      <th>4</th>\n",
       "      <td>Data Professor</td>\n",
       "      <td>2019-08-17T15:59:56Z</td>\n",
       "      <td>198000</td>\n",
       "      <td>353</td>\n",
       "      <td>7068096</td>\n",
       "      <td>UUV8e2g4IWQqK71bbzGDEI4Q</td>\n",
       "    </tr>\n",
       "  </tbody>\n",
       "</table>\n",
       "</div>"
      ],
      "text/plain": [
       "                 channel_title          created_date subscribers total_videos  \\\n",
       "0                    Joma Tech  2016-08-31T22:22:07Z     2330000           88   \n",
       "1  StatQuest with Josh Starmer  2011-05-24T01:52:48Z     1320000          285   \n",
       "2                     edureka!  2012-06-29T06:12:26Z     4320000        11550   \n",
       "3                      sentdex  2012-12-16T20:49:11Z     1380000         1255   \n",
       "4               Data Professor  2019-08-17T15:59:56Z      198000          353   \n",
       "\n",
       "  total_views               playlist_id  \n",
       "0   186451452  UUV0qA-eDDICsRR9rPcnG7tw  \n",
       "1    73728802  UUtYLUTtgS3k1Fg4y5tAhLbw  \n",
       "2   442327827  UUkw4JCwteGrDHIsyIIKo4tQ  \n",
       "3   116668473  UUfzlCWGWYyIQ0aLC5w48gBQ  \n",
       "4     7068096  UUV8e2g4IWQqK71bbzGDEI4Q  "
      ]
     },
     "execution_count": 16,
     "metadata": {},
     "output_type": "execute_result"
    }
   ],
   "source": [
    "## checking the first five rows of the datafrmae\n",
    "channel_stat_df.head()"
   ]
  },
  {
   "cell_type": "code",
   "execution_count": null,
   "metadata": {},
   "outputs": [],
   "source": []
  }
 ],
 "metadata": {
  "kernelspec": {
   "display_name": "ytevn",
   "language": "python",
   "name": "python3"
  },
  "language_info": {
   "codemirror_mode": {
    "name": "ipython",
    "version": 3
   },
   "file_extension": ".py",
   "mimetype": "text/x-python",
   "name": "python",
   "nbconvert_exporter": "python",
   "pygments_lexer": "ipython3",
   "version": "3.11.0"
  }
 },
 "nbformat": 4,
 "nbformat_minor": 2
}
