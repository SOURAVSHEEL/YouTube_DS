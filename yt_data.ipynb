{
 "cells": [
  {
   "cell_type": "code",
   "execution_count": 1,
   "metadata": {},
   "outputs": [],
   "source": [
    "import numpy\n",
    "import pandas\n",
    "import matplotlib.pyplot as plt\n",
    "import seaborn as sns\n",
    "import os\n",
    "from googleapiclient.discovery import build\n",
    "from dotenv import load_dotenv\n",
    "from channel_ID import CHANNEL_ID\n",
    "\n"
   ]
  },
  {
   "cell_type": "code",
   "execution_count": 3,
   "metadata": {},
   "outputs": [
    {
     "data": {
      "text/plain": [
       "True"
      ]
     },
     "execution_count": 3,
     "metadata": {},
     "output_type": "execute_result"
    }
   ],
   "source": [
    "## load enviroment variables from the .env files\n",
    "load_dotenv()"
   ]
  },
  {
   "cell_type": "code",
   "execution_count": 4,
   "metadata": {},
   "outputs": [],
   "source": [
    "## get the api key from the .env file\n",
    "api_key = os.getenv(\"api_key\")"
   ]
  },
  {
   "cell_type": "code",
   "execution_count": 5,
   "metadata": {},
   "outputs": [],
   "source": [
    "## create a youtube api client\n",
    "youtube = build('youtube', 'v3', developerKey=api_key)"
   ]
  },
  {
   "cell_type": "code",
   "execution_count": 6,
   "metadata": {},
   "outputs": [],
   "source": [
    "## function to fetch the channel data for a given channel id and youtube api key\n",
    "\n",
    "def channel_data(api_key, channel_id):\n",
    "    all_data = []\n",
    "\n",
    "    request = youtube.channels().list(\n",
    "        part = 'snippet, contentDetails, statistics',\n",
    "        id = ','.join(channel_id)\n",
    "    )\n",
    "    response = request.execute()\n",
    "    for i in range(len(response['items'])):\n",
    "        data = dict(channel_title = response['items'][i]['snippet']['title'],\n",
    "                    created_date = response['items'][i]['snippet']['publishedAt'],\n",
    "                    subscribers = response['items'][i]['statistics']['subscriberCount'],\n",
    "                    total_videos = response['items'][i]['statistics']['videoCount'],\n",
    "                    total_views = response['items'][i]['statistics']['viewCount'],\n",
    "                    playlist_id = response['items'][i]['contentDetails']['relatedPlaylists']['uploads'])\n",
    "        \n",
    "        all_data.append(data)\n",
    "\n",
    "    return all_data"
   ]
  },
  {
   "cell_type": "code",
   "execution_count": 8,
   "metadata": {},
   "outputs": [
    {
     "data": {
      "text/plain": [
       "[{'channel_title': 'Krish Naik',\n",
       "  'created_date': '2012-02-11T04:05:06Z',\n",
       "  'subscribers': '1090000',\n",
       "  'total_videos': '1975',\n",
       "  'total_views': '110562559',\n",
       "  'playlist_id': 'UUNU_lfiiWBdtULKOw6X0Dig'},\n",
       " {'channel_title': 'Siraj Raval',\n",
       "  'created_date': '2016-01-02T00:54:12Z',\n",
       "  'subscribers': '771000',\n",
       "  'total_videos': '476',\n",
       "  'total_views': '51212771',\n",
       "  'playlist_id': 'UUWN3xxRkmTPmbKwht9FuE5A'},\n",
       " {'channel_title': 'Simplilearn',\n",
       "  'created_date': '2009-10-29T07:21:23Z',\n",
       "  'subscribers': '4740000',\n",
       "  'total_videos': '8582',\n",
       "  'total_views': '410391657',\n",
       "  'playlist_id': 'UUsvqVGtbbyHaMoevxPAq9Fg'},\n",
       " {'channel_title': 'Two Minute Papers',\n",
       "  'created_date': '2006-08-18T00:05:41Z',\n",
       "  'subscribers': '1600000',\n",
       "  'total_videos': '943',\n",
       "  'total_views': '148581323',\n",
       "  'playlist_id': 'UUbfYPyITQ-7l4upoX8nvctg'},\n",
       " {'channel_title': 'Ken Jee',\n",
       "  'created_date': '2014-02-28T14:58:24Z',\n",
       "  'subscribers': '265000',\n",
       "  'total_videos': '288',\n",
       "  'total_views': '9281325',\n",
       "  'playlist_id': 'UUiT9RITQ9PW6BhXK0y2jaeg'},\n",
       " {'channel_title': 'CS Dojo',\n",
       "  'created_date': '2016-02-26T01:49:30Z',\n",
       "  'subscribers': '1950000',\n",
       "  'total_videos': '111',\n",
       "  'total_views': '82867932',\n",
       "  'playlist_id': 'UUxX9wt5FWQUAAz4UrysqK9A'},\n",
       " {'channel_title': 'sentdex',\n",
       "  'created_date': '2012-12-16T20:49:11Z',\n",
       "  'subscribers': '1380000',\n",
       "  'total_videos': '1255',\n",
       "  'total_views': '116652867',\n",
       "  'playlist_id': 'UUfzlCWGWYyIQ0aLC5w48gBQ'},\n",
       " {'channel_title': 'Data Professor',\n",
       "  'created_date': '2019-08-17T15:59:56Z',\n",
       "  'subscribers': '198000',\n",
       "  'total_videos': '353',\n",
       "  'total_views': '7060728',\n",
       "  'playlist_id': 'UUV8e2g4IWQqK71bbzGDEI4Q'},\n",
       " {'channel_title': '3Blue1Brown',\n",
       "  'created_date': '2015-03-03T23:11:55Z',\n",
       "  'subscribers': '6840000',\n",
       "  'total_videos': '196',\n",
       "  'total_views': '585461244',\n",
       "  'playlist_id': 'UUYO_jab_esuFRV4b17AJtAw'},\n",
       " {'channel_title': 'StatQuest with Josh Starmer',\n",
       "  'created_date': '2011-05-24T01:52:48Z',\n",
       "  'subscribers': '1310000',\n",
       "  'total_videos': '285',\n",
       "  'total_views': '73639525',\n",
       "  'playlist_id': 'UUtYLUTtgS3k1Fg4y5tAhLbw'},\n",
       " {'channel_title': 'Corey Schafer',\n",
       "  'created_date': '2006-05-31T22:49:22Z',\n",
       "  'subscribers': '1400000',\n",
       "  'total_videos': '239',\n",
       "  'total_views': '99927419',\n",
       "  'playlist_id': 'UUCezIgC97PvUuR4_gbFUs5g'},\n",
       " {'channel_title': 'Joma Tech',\n",
       "  'created_date': '2016-08-31T22:22:07Z',\n",
       "  'subscribers': '2330000',\n",
       "  'total_videos': '88',\n",
       "  'total_views': '186408200',\n",
       "  'playlist_id': 'UUV0qA-eDDICsRR9rPcnG7tw'},\n",
       " {'channel_title': 'CodeWithHarry',\n",
       "  'created_date': '2018-04-28T14:50:54Z',\n",
       "  'subscribers': '6990000',\n",
       "  'total_videos': '2439',\n",
       "  'total_views': '888177293',\n",
       "  'playlist_id': 'UUeVMnSShP_Iviwkknt83cww'},\n",
       " {'channel_title': 'Innit Podcast',\n",
       "  'created_date': '2022-09-14T07:54:45.021008Z',\n",
       "  'subscribers': '15100',\n",
       "  'total_videos': '235',\n",
       "  'total_views': '1200639',\n",
       "  'playlist_id': 'UUFBoqaPTCtGJi8kr7pV33Tg'},\n",
       " {'channel_title': 'edureka!',\n",
       "  'created_date': '2012-06-29T06:12:26Z',\n",
       "  'subscribers': '4320000',\n",
       "  'total_videos': '11548',\n",
       "  'total_views': '442166974',\n",
       "  'playlist_id': 'UUkw4JCwteGrDHIsyIIKo4tQ'}]"
      ]
     },
     "execution_count": 8,
     "metadata": {},
     "output_type": "execute_result"
    }
   ],
   "source": [
    "## Calling the function to get the channel data and store it in a variable\n",
    "\n",
    "channel_stat = channel_data(api_key,CHANNEL_ID)\n",
    "\n",
    "channel_stat\n"
   ]
  },
  {
   "cell_type": "code",
   "execution_count": null,
   "metadata": {},
   "outputs": [],
   "source": []
  },
  {
   "cell_type": "code",
   "execution_count": null,
   "metadata": {},
   "outputs": [],
   "source": []
  },
  {
   "cell_type": "code",
   "execution_count": null,
   "metadata": {},
   "outputs": [],
   "source": []
  }
 ],
 "metadata": {
  "kernelspec": {
   "display_name": "ytevn",
   "language": "python",
   "name": "python3"
  },
  "language_info": {
   "codemirror_mode": {
    "name": "ipython",
    "version": 3
   },
   "file_extension": ".py",
   "mimetype": "text/x-python",
   "name": "python",
   "nbconvert_exporter": "python",
   "pygments_lexer": "ipython3",
   "version": "3.11.0"
  }
 },
 "nbformat": 4,
 "nbformat_minor": 2
}
